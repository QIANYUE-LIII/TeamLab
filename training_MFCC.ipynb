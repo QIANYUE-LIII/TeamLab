{
 "cells": [
  {
   "cell_type": "code",
   "execution_count": 1,
   "id": "222cac7c",
   "metadata": {},
   "outputs": [],
   "source": [
    "import torch\n",
    "import torch.nn as nn\n",
    "import torch.nn.utils.rnn as rnn_utils\n",
    "from torch.utils.data import Dataset, DataLoader\n",
    "from torch.nn.utils.rnn import pad_sequence\n",
    "from tqdm.auto import tqdm\n",
    "import pandas as pd\n",
    "import numpy as np\n",
    "import eval_metrics as em"
   ]
  },
  {
   "cell_type": "markdown",
   "id": "693917dc",
   "metadata": {},
   "source": [
    "### Padding and Data Loader"
   ]
  },
  {
   "cell_type": "code",
   "execution_count": null,
   "id": "bc4b5900",
   "metadata": {},
   "outputs": [],
   "source": [
    "\n",
    "PADDING_VALUE = 0.0         \n",
    "BATCH_SIZE = 32\n",
    "LABEL_BONAFIDE = 1\n",
    "LABEL_SPOOF = 0\n",
    "\n",
    "\n",
    "# --- Process pitch sequences and match them with labels ---\n",
    "class PitchDataset(Dataset):\n",
    "    def __init__(self, feature_path, label_file_path):\n",
    "        \n",
    "        # NOTE: watch out for numpy compatibility \n",
    "        self.labels = torch.tensor(pd.read_pickle(label_file_path), dtype=torch.long)\n",
    "        features = pd.read_pickle(feature_path)\n",
    "        # NOTE: need to take the transpose: original shape (feature_dimension, timeframe)\n",
    "        self.processed_features = [torch.tensor(arr, dtype=torch.torch.float32).T for arr in features]\n",
    "        \n",
    "\n",
    "    def __len__(self):\n",
    "        \"\"\"Returns the total number of matched samples in the dataset.\"\"\"\n",
    "        return len(self.processed_features)\n",
    "\n",
    "    def __getitem__(self, idx):\n",
    "        \"\"\"\n",
    "        Returns one sample from the dataset: a preprocessed pitch sequence and its label.\n",
    "        \"\"\"\n",
    "        feature_sequence = self.processed_features[idx]\n",
    "        label = self.labels[idx]\n",
    "        return feature_sequence, label\n",
    "\n",
    "# --- Custom Collate Function for Dynamic Padding  ---\n",
    "def collate_fn(batch, padding_value=PADDING_VALUE):\n",
    "    \"\"\"\n",
    "    Pads sequences within a batch to the same length.\n",
    "    \"\"\"\n",
    "    sequences = [item[0] for item in batch]\n",
    "    labels = [item[1] for item in batch]\n",
    "    lengths = torch.tensor([len(seq) for seq in sequences], dtype=torch.long)\n",
    "    padded_sequences = pad_sequence(sequences, batch_first=True, padding_value=padding_value)\n",
    "    labels = torch.stack(labels)\n",
    "    if padded_sequences.ndim == 2:\n",
    "        padded_sequences = padded_sequences.unsqueeze(2)    # required dim: (batch_size, seq_len, input_dim)\n",
    "    return padded_sequences, lengths, labels\n"
   ]
  },
  {
   "cell_type": "markdown",
   "id": "e792b42c",
   "metadata": {},
   "source": [
    ">NOTE: ^Many PyTorch layers, especially those dealing with sequences like LSTMs, GRUs, or 1D Convolutional layers, expect input in a 3D format.If your pad_sequence results in a (batch_size, sequence_length) tensor because each time step in your sequence is represented by a single number, unsqueeze(2) reshapes it to (batch_size, sequence_length, 1). This '1' signifies that there is one feature (or channel) per time step in the sequence. This makes the tensor compatible with layers that expect this 3D input."
   ]
  },
  {
   "cell_type": "code",
   "execution_count": null,
   "id": "3b23e44d",
   "metadata": {},
   "outputs": [],
   "source": [
    "### For remote server\n",
    "mfcc_train_path = '/home/users1/liqe/TeamLab_phonetics/features_qianru/mfcc_train_60_cnn.pkl'\n",
    "mfcc_dev_path = '/home/users1/liqe/TeamLab_phonetics/features_qianru/mfcc_dev_60_cnn.pkl'"
   ]
  },
  {
   "cell_type": "code",
   "execution_count": null,
   "id": "da51a91e",
   "metadata": {},
   "outputs": [],
   "source": [
    "### for remote\n",
    "label_train_path = '/home/users1/liqe/TeamLab_phonetics/features_qianru/mfcc_train_60_cnn_label.pkl'\n",
    "label_dev_path = '/home/users1/liqe/TeamLab_phonetics/features_qianru/mfcc_dev_60_cnn_label.pkl'"
   ]
  },
  {
   "cell_type": "code",
   "execution_count": 9,
   "id": "67d92225",
   "metadata": {},
   "outputs": [
    {
     "name": "stdout",
     "output_type": "stream",
     "text": [
      "\n",
      "--- Batch 1 ---\n",
      "  Padded Sequences Shape: torch.Size([32, 221, 60])\n",
      "  Original Lengths (first 5): tensor([ 72, 221, 199, 108, 111])\n",
      "  Labels (first 5): tensor([0, 0, 0, 0, 0])\n"
     ]
    }
   ],
   "source": [
    "mfcc_dataset_train = PitchDataset(feature_path=mfcc_train_path,\n",
    "                                     label_file_path=label_train_path)\n",
    "\n",
    "train_dataloader = DataLoader(\n",
    "    mfcc_dataset_train, batch_size=BATCH_SIZE, shuffle=True, collate_fn=collate_fn\n",
    ")\n",
    "\n",
    "mfcc_dataset_dev = PitchDataset(feature_path=mfcc_dev_path,\n",
    "                                     label_file_path=label_dev_path)\n",
    "\n",
    "dev_dataloader = DataLoader(\n",
    "    mfcc_dataset_dev, batch_size=BATCH_SIZE, shuffle=True, collate_fn=collate_fn\n",
    ")\n",
    "\n",
    "## For inspection\n",
    "for i, batch_data in enumerate(train_dataloader):\n",
    "    # batch_data is a tuple: (padded_sequences, lengths, labels)\n",
    "    batch_sequences, batch_lengths, batch_labels = batch_data\n",
    "    print(f\"\\n--- Batch {i+1} ---\")\n",
    "    print(f\"  Padded Sequences Shape: {batch_sequences.shape}\")\n",
    "    print(f\"  Original Lengths (first 5): {batch_lengths[:5]}\")\n",
    "    print(f\"  Labels (first 5): {batch_labels[:5]}\")\n",
    "    \n",
    "\n",
    "    if i == 0: # Break after the first batch for inspection\n",
    "        break\n"
   ]
  },
  {
   "cell_type": "markdown",
   "id": "2cdbd83f",
   "metadata": {},
   "source": [
    "### Finding the weight (for weighted cross entropy)"
   ]
  },
  {
   "cell_type": "markdown",
   "id": "65ac071d",
   "metadata": {},
   "source": [
    "is there different ways calculating weitghs?"
   ]
  },
  {
   "cell_type": "code",
   "execution_count": 12,
   "id": "8f67837f",
   "metadata": {},
   "outputs": [],
   "source": [
    "labels =  labels = pd.read_pickle(label_train_path)\n",
    "total = len(labels)\n",
    "count_bonafide = class_count = sum(1 for value in labels if value == LABEL_BONAFIDE)\n",
    "count_spoof =  total - count_bonafide\n",
    "weight_bonafide = total / (count_bonafide * 2)\n",
    "weight_spoof = total / (count_spoof * 2)"
   ]
  },
  {
   "cell_type": "markdown",
   "id": "0e3d85b7",
   "metadata": {},
   "source": [
    "### LSTM classifier"
   ]
  },
  {
   "cell_type": "code",
   "execution_count": null,
   "id": "bbba4a9e",
   "metadata": {},
   "outputs": [],
   "source": [
    "class SimplePitchLSTMClassifier(nn.Module):\n",
    "    def __init__(self, input_dim, hidden_dim, output_dim, n_layers,\n",
    "                 bidirectional, dropout):\n",
    "\n",
    "        super().__init__()\n",
    "        \n",
    "        self.input_dim = input_dim\n",
    "        self.hidden_dim = hidden_dim\n",
    "        self.output_dim = output_dim\n",
    "        self.n_layers = n_layers\n",
    "        self.bidirectional = bidirectional\n",
    "        \n",
    "        # 1. LSTM Layer\n",
    "        self.lstm = nn.LSTM(input_dim, \n",
    "                           hidden_dim, \n",
    "                           num_layers=n_layers, \n",
    "                           bidirectional=bidirectional, \n",
    "                           dropout=dropout if n_layers > 1 else 0,\n",
    "                           batch_first=True) # Input/output tensors are (batch, seq, feature)\n",
    "        \n",
    "        # 2. Fully Connected Layer (Linear Layer)\n",
    "        self.fc = nn.Linear(hidden_dim * 2 if bidirectional else hidden_dim, output_dim)\n",
    "        \n",
    "        # 3. Dropout Layer (for regularization on the output of LSTM)\n",
    "        self.dropout = nn.Dropout(dropout)\n",
    "        \n",
    "    def forward(self, sequences, sequence_lengths):\n",
    "\n",
    "        # 1. Pack sequence\n",
    "        packed_input = rnn_utils.pack_padded_sequence(sequences, sequence_lengths.cpu(), batch_first=True, enforce_sorted=False)\n",
    "        \n",
    "        # 2. Pass packed sequence through LSTM\n",
    "        packed_output, (hidden, cell) = self.lstm(packed_input)\n",
    "\n",
    "        # 3. Concatenate the final forward and backward hidden states (if bidirectional)\n",
    "        if self.lstm.bidirectional:\n",
    "            hidden = self.dropout(torch.cat((hidden[-2,:,:], hidden[-1,:,:]), dim=1))\n",
    "        else:\n",
    "            hidden = self.dropout(hidden[-1,:,:])\n",
    "            \n",
    "        # 4. Pass the processed hidden state through the fully connected layer\n",
    "        output = self.fc(hidden)\n",
    "        \n",
    "        return output"
   ]
  },
  {
   "cell_type": "markdown",
   "id": "9f0e0862",
   "metadata": {},
   "source": [
    "### Initiate the model"
   ]
  },
  {
   "cell_type": "code",
   "execution_count": 14,
   "id": "3c5ff2f9",
   "metadata": {},
   "outputs": [
    {
     "name": "stdout",
     "output_type": "stream",
     "text": [
      "CUDA available: True\n",
      "CUDA device count: 4\n"
     ]
    }
   ],
   "source": [
    "print(f\"CUDA available: {torch.cuda.is_available()}\")\n",
    "print(f\"CUDA device count: {torch.cuda.device_count()}\")\n",
    "DEVICE = torch.device('cuda' if torch.cuda.is_available() else 'cpu')"
   ]
  },
  {
   "cell_type": "code",
   "execution_count": 15,
   "id": "76bcf403",
   "metadata": {},
   "outputs": [],
   "source": [
    "class_weights = torch.tensor([weight_bonafide, weight_spoof], dtype=torch.float32).to(DEVICE)"
   ]
  },
  {
   "cell_type": "code",
   "execution_count": 16,
   "id": "d5e02bd2",
   "metadata": {},
   "outputs": [],
   "source": [
    "model = SimplePitchLSTMClassifier(input_dim=60, hidden_dim=128, output_dim=2, n_layers=1,\n",
    "                 bidirectional=True, dropout=0.0).to(DEVICE)\n",
    "criterion = torch.nn.CrossEntropyLoss(reduction='mean', weight=class_weights)\n",
    "optimizer = torch.optim.Adam(model.parameters(), lr=0.01)"
   ]
  },
  {
   "cell_type": "markdown",
   "id": "6ed0614e",
   "metadata": {},
   "source": [
    "### Evaluation"
   ]
  },
  {
   "cell_type": "code",
   "execution_count": null,
   "id": "7882ce3a",
   "metadata": {},
   "outputs": [],
   "source": [
    "def evaluate_pitch_classifier(data_loader, model, criterion):\n",
    "\n",
    "    model.eval()  # Set the model to evaluation mode (disables dropout, etc.)\n",
    "    \n",
    "    total_loss = 0.0\n",
    "    correct_predictions = 0\n",
    "    total_samples = 0\n",
    "\n",
    "    scores_bonafide = []\n",
    "    scores_spoof = []\n",
    "\n",
    "    with torch.no_grad():  # Disable gradient calculations during evaluation\n",
    "        for batch_sequences, batch_lengths, batch_labels in data_loader:\n",
    "            # Move data to the same device as the model\n",
    "            batch_sequences = batch_sequences.to(DEVICE)\n",
    "            batch_labels = batch_labels.to(DEVICE)\n",
    "\n",
    "            # Forward pass: Get model outputs (logits)\n",
    "            logits = model(batch_sequences, batch_lengths)\n",
    "            \n",
    "            # Calculate loss for the current batch\n",
    "            loss = criterion(logits, batch_labels)\n",
    "            total_loss += loss.item() * batch_sequences.size(0) # Accumulate loss, weighted by batch size\n",
    "\n",
    "            # for EER\n",
    "            probabilities = torch.softmax(logits, dim=1)\n",
    "\n",
    "            for i in range(len(batch_labels)):\n",
    "                current_label = batch_labels[i]\n",
    "                current_score = probabilities[i]\n",
    "\n",
    "                if current_label == LABEL_BONAFIDE:\n",
    "                    scores_bonafide.append(current_score[LABEL_BONAFIDE].cpu())     ## numpy is cpu only, need to move tensor from gpu\n",
    "                elif current_label == LABEL_SPOOF:\n",
    "                    scores_spoof.append(current_score[LABEL_BONAFIDE].cpu())\n",
    "            \n",
    "            total_samples += batch_labels.size(0) # Count number of samples in this batch\n",
    "\n",
    "    average_loss = total_loss / total_samples if total_samples > 0 else 0.0\n",
    "\n",
    "    scores_bonafide_np = np.array(scores_bonafide)    \n",
    "    scores_spoof_np = np.array(scores_spoof)\n",
    "    eer, threshold = em.compute_eer(scores_bonafide_np, scores_spoof_np)\n",
    "    \n",
    "    return average_loss, eer, threshold"
   ]
  },
  {
   "cell_type": "markdown",
   "id": "05672159",
   "metadata": {},
   "source": [
    "### The training loop"
   ]
  },
  {
   "cell_type": "code",
   "execution_count": null,
   "id": "c10873ed",
   "metadata": {},
   "outputs": [],
   "source": [
    "def train_model(model, train_dataloader, dev_dataloader, criterion, optimizer, num_epochs, device):\n",
    "\n",
    "    print(f\"Training started on device: {device}\")\n",
    "    model.to(device) # Ensure model is on the correct device\n",
    "\n",
    "    # Initial metric dictionary for the progress bar\n",
    "    metric_dict = {'train_loss': 'N/A', 'val_loss': 'N/A', 'val_eer': 'N/A', 'val_threshold': 'N/A'}\n",
    "\n",
    "    # Evaluate on validation set first to get a baseline\n",
    "    print(\"Evaluating on validation set before training...\")\n",
    "    model.eval() # Set model to evaluation mode\n",
    "    val_loss_initial, val_eer_initial, threshold_initial = evaluate_pitch_classifier(dev_dataloader, model, criterion)\n",
    "    metric_dict.update({'val_loss': f'{val_loss_initial:.3f}', 'val_eer': f'{val_eer_initial*100:.2f}%', 'val_threshold': f'{threshold_initial*100:.2f}%'})\n",
    "    print(f\"Initial Validation - Loss: {val_loss_initial:.4f}, EER: {val_eer_initial*100:.2f}%, Threshold: {threshold_initial*100:.2f}%\")\n",
    "\n",
    "    # Progress bar setup\n",
    "    # Total steps: number of epochs * number of batches per epoch\n",
    "    total_steps = num_epochs * len(train_dataloader)\n",
    "    pbar = tqdm(total=total_steps, initial=0, postfix=metric_dict, unit=\"batch\")\n",
    "\n",
    "    for epoch in range(num_epochs):\n",
    "        model.train()  # Set the model to training mode (enables dropout, etc.)\n",
    "        pbar.set_description(f\"Epoch {epoch + 1}/{num_epochs}\")\n",
    "        \n",
    "        running_train_loss = 0.0\n",
    "        num_train_batches = 0\n",
    "\n",
    "        for batch_sequences, batch_lengths, batch_labels in train_dataloader:\n",
    "            # Move data to the specified device\n",
    "            batch_sequences = batch_sequences.to(device)\n",
    "            # batch_lengths are used by pack_padded_sequence which expects them on CPU\n",
    "            batch_labels = batch_labels.to(device)\n",
    "\n",
    "            # Zero the parameter gradients\n",
    "            optimizer.zero_grad()\n",
    "\n",
    "            # Forward pass: Get model outputs (logits)\n",
    "            logits = model(batch_sequences, batch_lengths)\n",
    "            \n",
    "            # Calculate loss\n",
    "            loss = criterion(logits, batch_labels)\n",
    "            \n",
    "            # Backward pass and optimize\n",
    "            loss.backward()\n",
    "            optimizer.step()\n",
    "\n",
    "            # Update statistics for progress bar and logging\n",
    "            running_train_loss += loss.item()\n",
    "            num_train_batches += 1\n",
    "            \n",
    "            pbar.update(1) # Increment progress bar by one batch\n",
    "            metric_dict.update({'train_loss': f'{loss.item():.3f}'}) # Current batch loss\n",
    "            pbar.set_postfix(metric_dict)\n",
    "        \n",
    "        # Calculate average training loss for the epoch\n",
    "        avg_epoch_train_loss = running_train_loss / num_train_batches if num_train_batches > 0 else 0.0\n",
    "        metric_dict.update({'train_loss': f'{avg_epoch_train_loss:.3f}'}) # Average epoch loss\n",
    "        \n",
    "        # Evaluate on validation set after each epoch\n",
    "        avg_val_loss, val_eer, val_threshold = evaluate_pitch_classifier(dev_dataloader, model, criterion)\n",
    "        \n",
    "        metric_dict.update({'val_loss': f'{avg_val_loss:.3f}', 'val_eer': f'{val_eer*100:.2f}%', 'val_threshold': f'{val_threshold*100:.2f}%'})\n",
    "        pbar.set_postfix(metric_dict) # Update with latest validation metrics\n",
    "        \n",
    "        # Optional: Print epoch summary\n",
    "        print(f\"\\nEpoch {epoch+1} Summary: Avg Train Loss: {avg_epoch_train_loss:.4f}, Val Loss: {avg_val_loss:.4f}, EER: {val_eer*100:.2f}%, Threshold: {val_threshold*100:.2f}%\")\n",
    "\n",
    "    pbar.close()\n",
    "    print(\"Training finished.\")"
   ]
  },
  {
   "cell_type": "code",
   "execution_count": 19,
   "id": "d2c89dc0",
   "metadata": {},
   "outputs": [
    {
     "name": "stdout",
     "output_type": "stream",
     "text": [
      "Training started on device: cuda\n",
      "Evaluating on validation set before training...\n",
      "Initial Validation - Loss: 0.5367, EER: 53.22%, Threshold: 40.54%\n"
     ]
    },
    {
     "data": {
      "application/vnd.jupyter.widget-view+json": {
       "model_id": "eca09652cf854f7eab6668b2da2baa85",
       "version_major": 2,
       "version_minor": 0
      },
      "text/plain": [
       "  0%|          | 0/15880 [00:00<?, ?batch/s, train_loss=N/A, val_eer=53.22%, val_loss=0.537, val_threshold=40.…"
      ]
     },
     "metadata": {},
     "output_type": "display_data"
    },
    {
     "name": "stdout",
     "output_type": "stream",
     "text": [
      "\n",
      "Epoch 1 Summary: Avg Train Loss: 0.0619, Val Loss: 0.0617, EER: 19.31%, Threshold: 5.00%\n",
      "\n",
      "Epoch 2 Summary: Avg Train Loss: 0.0589, Val Loss: 0.0556, EER: 18.17%, Threshold: 1.76%\n",
      "\n",
      "Epoch 3 Summary: Avg Train Loss: 0.0542, Val Loss: 0.0605, EER: 18.52%, Threshold: 0.42%\n",
      "\n",
      "Epoch 4 Summary: Avg Train Loss: 0.0499, Val Loss: 0.0476, EER: 12.20%, Threshold: 0.59%\n",
      "\n",
      "Epoch 5 Summary: Avg Train Loss: 0.0437, Val Loss: 0.0450, EER: 8.83%, Threshold: 0.36%\n",
      "\n",
      "Epoch 6 Summary: Avg Train Loss: 0.0375, Val Loss: 0.0480, EER: 11.82%, Threshold: 0.11%\n",
      "\n",
      "Epoch 7 Summary: Avg Train Loss: 0.0350, Val Loss: 0.0463, EER: 16.56%, Threshold: 3.01%\n",
      "\n",
      "Epoch 8 Summary: Avg Train Loss: 0.0345, Val Loss: 0.0352, EER: 12.01%, Threshold: 0.16%\n",
      "\n",
      "Epoch 9 Summary: Avg Train Loss: 0.0349, Val Loss: 0.0400, EER: 10.47%, Threshold: 1.53%\n",
      "\n",
      "Epoch 10 Summary: Avg Train Loss: 0.0374, Val Loss: 0.0712, EER: 18.60%, Threshold: 0.03%\n",
      "\n",
      "Epoch 11 Summary: Avg Train Loss: 0.0340, Val Loss: 0.0417, EER: 13.08%, Threshold: 0.17%\n",
      "\n",
      "Epoch 12 Summary: Avg Train Loss: 0.0302, Val Loss: 0.0341, EER: 12.24%, Threshold: 0.18%\n",
      "\n",
      "Epoch 13 Summary: Avg Train Loss: 0.0327, Val Loss: 0.0431, EER: 18.69%, Threshold: 1.61%\n",
      "\n",
      "Epoch 14 Summary: Avg Train Loss: 0.0327, Val Loss: 0.0386, EER: 13.74%, Threshold: 0.50%\n",
      "\n",
      "Epoch 15 Summary: Avg Train Loss: 0.0328, Val Loss: 0.0349, EER: 10.36%, Threshold: 0.21%\n",
      "\n",
      "Epoch 16 Summary: Avg Train Loss: 0.0298, Val Loss: 0.0373, EER: 11.58%, Threshold: 0.21%\n",
      "\n",
      "Epoch 17 Summary: Avg Train Loss: 0.0330, Val Loss: 0.0392, EER: 12.68%, Threshold: 1.23%\n",
      "\n",
      "Epoch 18 Summary: Avg Train Loss: 0.0287, Val Loss: 0.0329, EER: 14.44%, Threshold: 0.22%\n",
      "\n",
      "Epoch 19 Summary: Avg Train Loss: 0.0288, Val Loss: 0.0329, EER: 9.62%, Threshold: 0.15%\n",
      "\n",
      "Epoch 20 Summary: Avg Train Loss: 0.0313, Val Loss: 0.0320, EER: 13.23%, Threshold: 0.58%\n",
      "Training finished.\n"
     ]
    }
   ],
   "source": [
    "NUM_EPOCHS = 20\n",
    "train_model(model, train_dataloader, dev_dataloader, criterion, optimizer, NUM_EPOCHS, DEVICE)"
   ]
  },
  {
   "cell_type": "code",
   "execution_count": null,
   "id": "e2840319",
   "metadata": {},
   "outputs": [],
   "source": []
  }
 ],
 "metadata": {
  "kernelspec": {
   "display_name": "pytorch0",
   "language": "python",
   "name": "python3"
  },
  "language_info": {
   "codemirror_mode": {
    "name": "ipython",
    "version": 3
   },
   "file_extension": ".py",
   "mimetype": "text/x-python",
   "name": "python",
   "nbconvert_exporter": "python",
   "pygments_lexer": "ipython3",
   "version": "3.11.11"
  }
 },
 "nbformat": 4,
 "nbformat_minor": 5
}

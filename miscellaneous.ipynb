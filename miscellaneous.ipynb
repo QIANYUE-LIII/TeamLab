{
 "cells": [
  {
   "cell_type": "code",
   "execution_count": 1,
   "id": "4ea272a7",
   "metadata": {},
   "outputs": [],
   "source": [
    "import os\n",
    "import pandas as pd\n",
    "import numpy as np\n",
    "import pickle\n",
    "from pathlib import Path"
   ]
  },
  {
   "cell_type": "code",
   "execution_count": 2,
   "id": "2b9a19cf",
   "metadata": {},
   "outputs": [
    {
     "data": {
      "text/plain": [
       "'1.26.4'"
      ]
     },
     "execution_count": 2,
     "metadata": {},
     "output_type": "execute_result"
    }
   ],
   "source": [
    "np.version.version"
   ]
  },
  {
   "cell_type": "markdown",
   "id": "3c27778a",
   "metadata": {},
   "source": [
    "### Check for MFCC features"
   ]
  },
  {
   "cell_type": "code",
   "execution_count": null,
   "id": "6a9370be",
   "metadata": {},
   "outputs": [
    {
     "name": "stdout",
     "output_type": "stream",
     "text": [
      "Successfully loaded DataFrame from: C:\\Users\\ivyap\\Desktop\\25SU\\TEAMLAB\\features_qianru\\mfcc_dev_60_cnn.pkl\n",
      "Length of the main list: 24844\n",
      "\n",
      "--- Inspecting the first three elements ---\n",
      "Type of the first element: <class 'numpy.ndarray'>\n",
      "Shape of the first element: (60, 224)\n",
      "Length of the first inner list: 60\n",
      "Type of the first item in the first inner list: <class 'numpy.ndarray'>\n",
      "Shape of the first item in the first inner list: (224,)\n",
      "Value of the first item in the first inner list: [-529.3246   -391.1469   -239.86996  -173.38402  -166.44449  -203.8063\n",
      " -289.83777  -168.15309   -87.389946  -87.18621  -127.18453  -200.15901\n",
      " -370.41635  -530.3893   -283.88864  -163.41824  -146.59563  -198.26009\n",
      " -227.36642  -226.84964  -259.9828   -326.85992  -274.01553  -194.84137\n",
      " -208.6496   -234.49873  -236.4428   -272.5793   -331.40933  -354.5592\n",
      " -366.19144  -381.30573  -405.83096  -443.81894  -520.37714  -535.34717\n",
      " -540.6975   -542.00555  -373.87482  -218.11151  -176.02014  -232.79623\n",
      " -404.20224  -359.14935  -234.77211  -124.93693   -79.81355   -96.625336\n",
      " -137.83228  -170.36368  -221.28316  -279.64337  -229.81654  -195.89427\n",
      " -209.68507  -220.15292  -200.63873  -209.23921  -249.95982  -220.55342\n",
      " -182.58954  -187.5606   -246.7748   -361.93335  -285.9872   -210.98389\n",
      " -212.04985  -259.74023  -274.42987  -256.5303   -170.14508  -144.63011\n",
      " -154.70274  -187.44511  -209.92844  -179.67455  -194.87779  -250.65363\n",
      " -310.76703  -256.0369   -157.10701  -158.49359  -203.45085  -306.84866\n",
      " -395.03564  -223.6748   -161.23589  -174.34656  -202.48816  -267.63165\n",
      " -352.54633  -305.7807   -324.01642  -367.2627   -426.86276  -293.6339\n",
      " -192.89171  -182.31654  -226.99617  -259.84888  -305.3625   -341.7924\n",
      " -261.27057  -231.76642  -262.61707  -283.13052  -308.12823  -335.3618\n",
      " -300.5655   -257.29428  -280.15942  -318.6355   -318.0958   -301.93317\n",
      " -280.77347  -285.86755  -302.75443  -228.92659  -180.19751  -197.07765\n",
      " -229.05495  -245.39687  -273.34372  -274.20667  -252.22025  -290.59927\n",
      " -362.22122  -410.17233  -332.0269   -262.11633  -241.17082  -298.96512\n",
      " -309.13803  -233.81815  -195.11584  -230.65083  -309.00653  -290.06274\n",
      " -228.05043  -248.02061  -328.13138  -335.00928  -248.94778  -251.42203\n",
      " -294.0331   -335.3138   -359.9691   -406.86234  -485.48428  -521.05994\n",
      " -515.9925   -441.74994  -316.57385  -285.22852  -318.24527  -389.44363\n",
      " -467.5867   -314.1877   -210.72772  -205.76927  -277.91965  -466.59604\n",
      " -308.62625  -214.02194  -215.19461  -257.9754   -262.7049   -230.38617\n",
      " -254.57324  -317.9214   -315.51175  -204.01689  -152.73216  -180.55092\n",
      " -199.24304  -243.91353  -253.18346  -261.20343  -329.20496  -383.9099\n",
      " -427.06967  -384.2515   -292.97488  -270.95703  -288.37207  -298.54352\n",
      " -267.2264   -257.50546  -273.3164   -303.0142   -302.07025  -265.0468\n",
      " -252.86218  -269.5368   -269.57104  -275.9891   -311.64017  -359.10062\n",
      " -248.75258  -204.99213  -208.0168   -270.86182  -195.30135  -144.55956\n",
      " -144.68318  -173.8853   -223.51627  -251.60155  -281.6986   -341.96783\n",
      " -306.23706  -261.44272  -305.84915  -391.10272  -442.5033   -458.01498\n",
      " -441.9665   -393.25256  -365.07977  -363.33203  -370.07025  -394.50327\n",
      " -452.45355  -517.35614 ]\n",
      "Type of the second element: <class 'numpy.ndarray'>\n",
      "Shape of the second element: (60, 133)\n",
      "Length of the second inner list: 60\n",
      "Type of the first item in the second inner list: <class 'numpy.ndarray'>\n",
      "Shape of the first item in the second inner list: (133,)\n",
      "Value of the first item in the second inner list: [-515.0381   -432.14737  -169.41904   -78.483185  -63.868477  -85.04145\n",
      " -107.61627  -138.38869  -105.61244   -57.27856   -76.4659    -98.12481\n",
      " -115.8528   -141.3688   -185.30508  -178.1906   -160.80496  -146.17535\n",
      " -190.94748  -203.55708  -130.88033  -114.50361  -124.735374 -183.64001\n",
      " -249.8487   -191.10458  -153.23232  -152.42535  -172.43561  -197.07764\n",
      " -246.91     -211.96324  -179.89098  -201.68237  -231.88824  -226.7543\n",
      " -148.471    -130.47105  -145.37375  -192.50653  -196.6907   -106.1778\n",
      "  -59.88781   -57.52693   -76.94354  -109.06723  -125.69806  -131.99478\n",
      " -131.14883  -121.55798  -149.59296  -172.92244  -175.17833  -143.38365\n",
      " -148.38976  -170.80879  -122.12146   -92.11244  -114.705185 -159.93503\n",
      " -185.07074  -169.84871  -150.39845  -154.27159  -212.41632  -198.52092\n",
      " -147.61609  -154.38548  -191.76636  -161.09558  -120.3446   -125.38234\n",
      " -131.87015  -138.88812  -143.58354  -170.2658   -205.02568  -168.02657\n",
      " -142.44334  -127.20328  -136.32501  -164.31277  -185.48761  -199.13696\n",
      " -134.37985   -97.35568   -96.861755 -119.3464   -128.30354  -132.1624\n",
      " -146.30159  -193.49887  -234.26263  -182.74245  -139.28049  -105.61918\n",
      "  -80.036026  -94.82283  -127.0781   -165.68765  -137.60182  -113.60865\n",
      "  -62.829517  -63.489735 -100.84564  -158.94977  -216.36649  -295.3534\n",
      " -338.4525   -254.58731  -215.59735  -241.17465  -250.72386  -247.07323\n",
      " -198.61824  -211.26038  -303.55234  -375.6528   -398.4745   -389.28473\n",
      " -426.01395  -469.42117  -512.70496  -536.3819   -536.79596  -536.20435\n",
      " -478.00107  -440.61685  -487.46436  -535.8909   -536.70966  -537.2983\n",
      " -537.8544  ]\n",
      "Type of the third element: <class 'numpy.ndarray'>\n",
      "Shape of the third element: (60, 51)\n",
      "Length of the third inner list: 60\n",
      "Type of the first item in the third inner list: <class 'numpy.ndarray'>\n",
      "Shape of the first item in the third inner list: (51,)\n",
      "Value of the first item in the third inner list: [-502.7582   -247.54779  -108.439026  -52.9871    -62.19824  -139.82167\n",
      " -268.37555  -217.45424  -123.20929  -108.51521  -130.96367   -90.73989\n",
      "  -91.422295 -172.00443  -270.9264   -251.37163  -102.081894  -56.98966\n",
      "  -84.73681   -85.25452   -94.50481  -193.10704  -363.60376  -244.01599\n",
      " -148.70729  -139.37672  -154.68532  -149.82013  -183.12807  -286.39496\n",
      " -188.44441  -126.86979  -121.32769  -145.17432  -181.14207  -224.40385\n",
      " -181.8546   -158.91644  -205.24892  -272.7221   -251.91893  -165.04744\n",
      " -129.00577  -143.04033  -166.44788  -197.54843  -263.774    -371.60938\n",
      " -394.66998  -418.9603   -462.54364 ]\n"
     ]
    }
   ],
   "source": [
    "# pkl file\n",
    "file_path_mfcc = r'C:\\Users\\ivyap\\Desktop\\25SU\\TEAMLAB\\features_qianru\\mfcc_dev_60_cnn.pkl'\n",
    "\n",
    "\n",
    "def inspection(num, element):\n",
    "    print(f\"Type of the {num} element: {type(element)}\")\n",
    "    print(f\"Shape of the {num} element: {(element).shape}\")\n",
    "          \n",
    "    if isinstance(element, np.ndarray):\n",
    "        print(f\"Length of the {num} inner list: {len(element)}\")\n",
    "        if len(element) > 0:\n",
    "            print(f\"Type of the first item in the {num} inner list: {type(element[0])}\")\n",
    "            print(f\"Shape of the first item in the {num} inner list: {(element[0]).shape}\")\n",
    "            print(f\"Value of the first item in the {num} inner list: {element[0]}\") # Be cautious if it's very large\n",
    "    elif hasattr(element, 'shape') and hasattr(element, 'dtype'): # Check for NumPy array\n",
    "        print(f\"It looks like a NumPy array with shape: {element.shape} and dtype: {element.dtype}\")\n",
    "    else:\n",
    "        print(f\"Value of the first element (first 100 chars): {str(element)[:100]}\")\n",
    "\n",
    "\n",
    "try:\n",
    "    if not os.path.exists(file_path_mfcc):\n",
    "        print(f\"Error: The file was not found at {file_path_mfcc}\")\n",
    "    else:\n",
    "        loaded_df = pd.read_pickle(file_path_mfcc)\n",
    "        #loaded_df = pd.read_parquet(file_path, engine='pyarrow')\n",
    "\n",
    "        print(f\"Successfully loaded DataFrame from: {file_path_mfcc}\")\n",
    "\n",
    "        if isinstance(loaded_df, list):\n",
    "            print(f\"Length of the main list: {len(loaded_df)}\")\n",
    "\n",
    "        if isinstance(loaded_df, list) and len(loaded_df) > 0:\n",
    "            print(f\"\\n--- Inspecting the first three elements ---\")\n",
    "            element_one = loaded_df[0]\n",
    "            inspection(\"first\",element_one)\n",
    "            element_two = loaded_df[1]\n",
    "            inspection(\"second\",element_two)\n",
    "            element_three = loaded_df[2]\n",
    "            inspection(\"third\",element_three)\n",
    "                    \n",
    "\n",
    "except Exception as e:\n",
    "    print(f\"An error occurred while loading or inspecting the DataFrame: {e}\")\n"
   ]
  },
  {
   "cell_type": "code",
   "execution_count": null,
   "id": "485145fa",
   "metadata": {},
   "outputs": [
    {
     "name": "stdout",
     "output_type": "stream",
     "text": [
      "(247,)\n"
     ]
    }
   ],
   "source": [
    "file_path = r'C:\\Users\\ivyap\\Desktop\\25SU\\TEAMLAB\\prosody_features\\prosody_features_train.pkl'\n",
    "\n",
    "loaded_df = pd.read_pickle(file_path)\n",
    "print(loaded_df['PITCH'][0].shape)"
   ]
  },
  {
   "cell_type": "markdown",
   "id": "c0f3d75f",
   "metadata": {},
   "source": [
    "### Transform pkl file into parquet file & flatten HNR"
   ]
  },
  {
   "cell_type": "code",
   "execution_count": 25,
   "id": "b90283c3",
   "metadata": {},
   "outputs": [],
   "source": [
    "def flatten_list_of_scalar_lists(nested_item):\n",
    "    \"\"\"\n",
    "    Converts a list of single-element lists/arrays (e.g., [[-200.0], [-100.0]])\n",
    "    into a flat list of scalars (e.g., [-200.0, -100.0]).\n",
    "    It can also handle items that are already scalars within the outer list.\n",
    "    \"\"\"\n",
    "    if not isinstance(nested_item, np.ndarray):\n",
    "        # If the input isn't a list at all, return np.nan or an empty list\n",
    "        # depending on how you want to handle unexpected row data.\n",
    "        return np.nan  # Or: return []\n",
    "\n",
    "    flat_list = []\n",
    "    for sub_item in nested_item:\n",
    "        if isinstance(sub_item, (list, np.ndarray)) and len(sub_item) == 1:\n",
    "            element = sub_item[0]\n",
    "            if isinstance(element, (int, float, np.number)):\n",
    "                flat_list.append(element)\n",
    "            else:\n",
    "                # The single element is not a number, append nan\n",
    "                flat_list.append(np.nan)\n",
    "        else:\n",
    "            flat_list.append(np.nan) # Mark as unable to extract a scalar\n",
    "\n",
    "    flat_array = np.array(flat_list)\n",
    "    return flat_array\n",
    "\n",
    "# example_hnr_row = [[-200.0], [-200.0], [-200.0], [-200.0], [-200.0]]\n",
    "# flattened_result = flatten_list_of_scalar_lists(example_hnr_row)\n",
    "# print(f\"Original: {example_hnr_row}\")\n",
    "# print(f\"Flattened: {flattened_result}\")\n"
   ]
  },
  {
   "cell_type": "markdown",
   "id": "f613af96",
   "metadata": {},
   "source": [
    "### Adding labels to prosody dataframe"
   ]
  },
  {
   "cell_type": "code",
   "execution_count": 33,
   "id": "6cff0827",
   "metadata": {},
   "outputs": [],
   "source": [
    "def process(feature_file, label_path):\n",
    "    label_map = {}\n",
    "    attack_map = {}\n",
    "    with open(label_path,'r') as f:\n",
    "        for line in f:\n",
    "            parts = line.strip().split()\n",
    "            audio_id = parts[1]\n",
    "            attack_type = parts[-2]\n",
    "            label_str = parts[-1]\n",
    "\n",
    "            # create dict for labels\n",
    "            if label_str == 'bonafide':\n",
    "                label_map[audio_id] = 1\n",
    "            if label_str == 'spoof':\n",
    "                label_map[audio_id] = 0\n",
    "            \n",
    "            # create dict for attack types\n",
    "            attack_map[audio_id] = attack_type\n",
    "\n",
    "    # apply HNR flatten\n",
    "    feature_df = pd.read_pickle(feature_file)\n",
    "    feature_df['HNR'] = feature_df['HNR'].apply(flatten_list_of_scalar_lists)\n",
    "    \n",
    "    # feature_df = pd.read_parquet(feature_file, engine='pyarrow')\n",
    "    feature_df['LABEL'] = feature_df['AUDIO_ID'].map(label_map)     # add labels to df\n",
    "    feature_df['ATTACK_TYPE'] = feature_df['AUDIO_ID'].map(attack_map)  # add attack types to df\n",
    "\n",
    "    # drop the rows where there is no label\n",
    "    feature_df = feature_df.dropna(subset=['LABEL'])\n",
    "\n",
    "    # inspect the new dataframe\n",
    "    print(feature_df.head())\n",
    "    print(feature_df.tail())\n",
    "    print(feature_df.info())\n",
    "    print(feature_df.describe())\n",
    "\n",
    "    return feature_df"
   ]
  },
  {
   "cell_type": "code",
   "execution_count": 34,
   "id": "0e354527",
   "metadata": {},
   "outputs": [],
   "source": [
    "feature_train_path = r'C:\\Users\\ivyap\\Desktop\\25SU\\TEAMLAB\\prosody_features\\prosody_features_train.pkl'\n",
    "feature_dev_path = r'C:\\Users\\ivyap\\Desktop\\25SU\\TEAMLAB\\prosody_features\\prosody_features_dev.pkl'\n",
    "feature_eval_path = r'C:\\Users\\ivyap\\Desktop\\25SU\\TEAMLAB\\prosody_features\\prosody_features_eval.pkl'\n",
    "\n",
    "label_train_path = r'C:\\Users\\ivyap\\Desktop\\25SU\\TEAMLAB\\LA\\ASVspoof2019_LA_cm_protocols\\ASVspoof2019.LA.cm.train.trn.txt'\n",
    "label_dev_path = r'C:\\Users\\ivyap\\Desktop\\25SU\\TEAMLAB\\LA\\ASVspoof2019_LA_cm_protocols\\ASVspoof2019.LA.cm.dev.trl.txt'\n",
    "label_eval_path = r'C:\\Users\\ivyap\\Desktop\\25SU\\TEAMLAB\\LA\\ASVspoof2019_LA_cm_protocols\\ASVspoof2019.LA.cm.eval.trl.txt'"
   ]
  },
  {
   "cell_type": "code",
   "execution_count": null,
   "id": "3109b7b3",
   "metadata": {},
   "outputs": [
    {
     "name": "stdout",
     "output_type": "stream",
     "text": [
      "       AUDIO_ID                                              PITCH  \\\n",
      "0  LA_T_1000137  [nan, nan, nan, nan, nan, nan, nan, nan, nan, ...   \n",
      "1  LA_T_1000406  [nan, nan, nan, nan, nan, nan, nan, nan, nan, ...   \n",
      "2  LA_T_1000648  [nan, nan, nan, nan, nan, 263.08241940297097, ...   \n",
      "3  LA_T_1000824  [nan, nan, nan, nan, nan, nan, nan, nan, nan, ...   \n",
      "4  LA_T_1001074  [nan, nan, nan, nan, nan, nan, nan, nan, nan, ...   \n",
      "\n",
      "    AVE_PITCH  STD_PITCH                                                HNR  \\\n",
      "0  129.703246  19.223900  [-200.0, -200.0, -200.0, -200.0, -200.0, -200....   \n",
      "1  151.166201  18.754230  [-200.0, -200.0, -200.0, -200.0, -200.0, -200....   \n",
      "2  240.929243  14.829958  [-200.0, -200.0, -200.0, -200.0, -200.0, -200....   \n",
      "3  106.986026  14.755938  [-200.0, -200.0, -200.0, -200.0, -200.0, -200....   \n",
      "4  194.306253  54.477061  [-200.0, -200.0, -200.0, -200.0, -200.0, -200....   \n",
      "\n",
      "      AVE_HNR     STD_HNR                                             JITTER  \\\n",
      "0  -92.736529  104.786689  [0.03256748, 0.0002516887, 0.013475794, 0.0195...   \n",
      "1 -138.341504   97.483901  [0.018233655, 0.00012101376, 0.0048870053, 0.0...   \n",
      "2  -70.618649  104.616700  [0.017310124, 7.244774e-05, 0.0066327276, 0.00...   \n",
      "3  -97.834652  104.542879  [0.030686794, 0.00028997014, 0.011766828, 0.01...   \n",
      "4 -101.088008  106.743714  [0.017426047, 8.990323e-05, 0.0041441307, 0.00...   \n",
      "\n",
      "                                             SHIMMER  LABEL ATTACK_TYPE  \n",
      "0  [0.10375512, 1.0035236, 0.030025614, 0.0499179...      0         A04  \n",
      "1  [0.06479659, 0.65391403, 0.018234065, 0.030374...      1           -  \n",
      "2  [0.10683353, 1.0656677, 0.032926716, 0.0559307...      0         A01  \n",
      "3  [0.107731804, 1.0492536, 0.034024533, 0.050041...      0         A04  \n",
      "4  [0.07336342, 0.76885146, 0.013917149, 0.030520...      0         A03  \n",
      "           AUDIO_ID                                              PITCH  \\\n",
      "25374  LA_T_9999170  [nan, nan, nan, nan, nan, nan, nan, nan, nan, ...   \n",
      "25375  LA_T_9999337  [nan, nan, nan, nan, nan, nan, nan, nan, 202.3...   \n",
      "25376  LA_T_9999560  [nan, nan, nan, nan, nan, nan, nan, nan, nan, ...   \n",
      "25377  LA_T_9999757  [nan, nan, nan, nan, nan, nan, nan, nan, nan, ...   \n",
      "25378  LA_T_9999995  [nan, nan, nan, nan, nan, nan, nan, nan, nan, ...   \n",
      "\n",
      "        AVE_PITCH  STD_PITCH  \\\n",
      "25374  100.363188   7.164140   \n",
      "25375  191.569031  21.519434   \n",
      "25376  109.429859  20.936661   \n",
      "25377  180.785704  17.229054   \n",
      "25378  121.824993  13.691786   \n",
      "\n",
      "                                                     HNR     AVE_HNR  \\\n",
      "25374  [-200.0, -200.0, -200.0, -200.0, -200.0, -200....  -37.648615   \n",
      "25375  [-200.0, -200.0, -200.0, -200.0, -200.0, -200....  -73.974675   \n",
      "25376  [-200.0, -200.0, -200.0, -200.0, -200.0, -200.... -105.571302   \n",
      "25377  [-200.0, -200.0, -200.0, -200.0, -200.0, -200....  -86.546852   \n",
      "25378  [-200.0, -200.0, -200.0, -200.0, -200.0, -200....  -86.759518   \n",
      "\n",
      "          STD_HNR                                             JITTER  \\\n",
      "25374   91.137573  [0.031615213, 0.0003153758, 0.015267488, 0.017...   \n",
      "25375  105.434615  [0.0186685, 9.704168e-05, 0.0059883054, 0.0084...   \n",
      "25376  102.556558  [0.034276757, 0.00031375213, 0.016177978, 0.01...   \n",
      "25377  107.593381  [0.017480627, 9.678204e-05, 0.0071346704, 0.00...   \n",
      "25378  106.612712  [0.024470527, 0.00020132912, 0.010997435, 0.01...   \n",
      "\n",
      "                                                 SHIMMER  LABEL ATTACK_TYPE  \n",
      "25374  [0.0868622, 0.80183876, 0.031080998, 0.0468844...      0         A04  \n",
      "25375  [0.13120681, 1.2383447, 0.038537405, 0.0626190...      0         A01  \n",
      "25376  [0.2007221, 1.6618917, 0.08650279, 0.13055769,...      0         A06  \n",
      "25377  [0.076279834, 0.8039742, 0.022064963, 0.040088...      0         A04  \n",
      "25378  [0.11541983, 1.0896341, 0.035451014, 0.0595753...      0         A04  \n",
      "<class 'pandas.core.frame.DataFrame'>\n",
      "RangeIndex: 25379 entries, 0 to 25378\n",
      "Data columns (total 11 columns):\n",
      " #   Column       Non-Null Count  Dtype  \n",
      "---  ------       --------------  -----  \n",
      " 0   AUDIO_ID     25379 non-null  object \n",
      " 1   PITCH        25379 non-null  object \n",
      " 2   AVE_PITCH    25379 non-null  float64\n",
      " 3   STD_PITCH    25379 non-null  float64\n",
      " 4   HNR          25379 non-null  object \n",
      " 5   AVE_HNR      25379 non-null  float64\n",
      " 6   STD_HNR      25379 non-null  float64\n",
      " 7   JITTER       25379 non-null  object \n",
      " 8   SHIMMER      25379 non-null  object \n",
      " 9   LABEL        25379 non-null  int64  \n",
      " 10  ATTACK_TYPE  25379 non-null  object \n",
      "dtypes: float64(4), int64(1), object(6)\n",
      "memory usage: 2.1+ MB\n",
      "None\n",
      "          AVE_PITCH     STD_PITCH       AVE_HNR       STD_HNR         LABEL\n",
      "count  25379.000000  25379.000000  25379.000000  25379.000000  25379.000000\n",
      "mean     170.607974     29.508113   -103.863595    102.861626      0.101659\n",
      "std       49.056464     22.922477     26.479619      5.292755      0.302205\n",
      "min       77.203680      2.646952   -176.782555     28.654001      0.000000\n",
      "25%      120.262290     14.386723   -123.500815    100.822903      0.000000\n",
      "50%      183.785066     21.586819   -104.873101    104.314100      0.000000\n",
      "75%      209.399293     36.745529    -84.739334    106.409882      0.000000\n",
      "max      368.012210    191.849947      0.799162    112.245761      1.000000\n"
     ]
    }
   ],
   "source": [
    "processed_train = process(feature_train_path, label_train_path)\n",
    "processed_train.to_parquet(r'C:\\Users\\ivyap\\Desktop\\25SU\\TEAMLAB\\prosody_features\\prosody_features_train_wlabel.parquet')"
   ]
  },
  {
   "cell_type": "code",
   "execution_count": null,
   "id": "06bb2453",
   "metadata": {},
   "outputs": [
    {
     "name": "stdout",
     "output_type": "stream",
     "text": [
      "       AUDIO_ID                                              PITCH  \\\n",
      "0  LA_D_7341689  [nan, nan, nan, nan, nan, nan, nan, nan, nan, ...   \n",
      "1  LA_D_9918902  [nan, nan, nan, nan, nan, nan, nan, nan, nan, ...   \n",
      "2  LA_D_1275044  [nan, nan, nan, nan, nan, nan, nan, nan, nan, ...   \n",
      "3  LA_D_4897222  [nan, nan, nan, nan, nan, nan, nan, nan, nan, ...   \n",
      "4  LA_D_5631993  [nan, nan, nan, nan, nan, nan, nan, nan, nan, ...   \n",
      "\n",
      "    AVE_PITCH  STD_PITCH                                                HNR  \\\n",
      "0  213.615570  65.016144  [-200.0, -200.0, -200.0, -200.0, -200.0, -200....   \n",
      "1  119.354940  15.630035  [-200.0, -200.0, -200.0, -200.0, -200.0, -200....   \n",
      "2  193.024226  19.904811  [-200.0, -200.0, -200.0, -200.0, -200.0, -200....   \n",
      "3  115.460326  11.565823  [-200.0, -200.0, -200.0, -200.0, -200.0, -200....   \n",
      "4  120.441340  49.403521  [-200.0, -200.0, -200.0, -200.0, -200.0, -200....   \n",
      "\n",
      "      AVE_HNR     STD_HNR                                             JITTER  \\\n",
      "0 -113.104043  104.989177  [0.01662964, 7.812808e-05, 0.0059983875, 0.006...   \n",
      "1  -74.501266  106.532443  [0.028536787, 0.00023921527, 0.010176106, 0.01...   \n",
      "2 -103.305865  108.367558  [0.015105256, 7.833716e-05, 0.006305389, 0.007...   \n",
      "3 -128.953003  100.389439  [0.018827157, 0.00016303151, 0.005235471, 0.00...   \n",
      "4  -63.820695  102.007114  [0.02123176, 0.00017809194, 0.0053802715, 0.00...   \n",
      "\n",
      "                                             SHIMMER  LABEL ATTACK_TYPE  \n",
      "0  [0.07007464, 0.7398846, 0.019030856, 0.0310982...    1.0           -  \n",
      "1  [0.101635866, 1.0351374, 0.021558236, 0.043773...    0.0         A03  \n",
      "2  [0.06033981, 0.6450831, 0.021849543, 0.0304563...    1.0           -  \n",
      "3  [0.104865216, 0.97706866, 0.033254664, 0.05611...    0.0         A02  \n",
      "4  [0.09927131, 0.96467435, 0.02429592, 0.0465227...    0.0         A03  \n",
      "           AUDIO_ID                                              PITCH  \\\n",
      "24981  LA_D_2365570  [nan, nan, nan, nan, nan, nan, nan, nan, nan, ...   \n",
      "24982  LA_D_2478413  [nan, nan, nan, nan, nan, nan, nan, nan, nan, ...   \n",
      "24983  LA_D_4432822  [nan, nan, nan, nan, nan, nan, nan, nan, nan, ...   \n",
      "24984  LA_D_8541558  [nan, nan, nan, nan, nan, nan, nan, nan, nan, ...   \n",
      "24985  LA_D_8313277  [nan, nan, nan, nan, nan, nan, nan, nan, nan, ...   \n",
      "\n",
      "        AVE_PITCH  STD_PITCH  \\\n",
      "24981  206.718137  35.120069   \n",
      "24982  225.256041  26.815174   \n",
      "24983  212.467048  20.253182   \n",
      "24984  188.807894  39.211361   \n",
      "24985  239.126781  57.052636   \n",
      "\n",
      "                                                     HNR     AVE_HNR  \\\n",
      "24981  [-200.0, -200.0, -200.0, -200.0, -200.0, -200.... -111.914581   \n",
      "24982  [-200.0, -200.0, -200.0, -200.0, -200.0, -200.... -143.911316   \n",
      "24983  [-200.0, -200.0, -200.0, -200.0, -200.0, -200....  -94.019523   \n",
      "24984  [-200.0, -200.0, -200.0, -200.0, -200.0, -200....  -88.861272   \n",
      "24985  [-200.0, -200.0, -200.0, -200.0, -200.0, -200.... -117.249673   \n",
      "\n",
      "          STD_HNR                                             JITTER  \\\n",
      "24981  106.758170  [0.012849854, 6.239703e-05, 0.002910472, 0.003...   \n",
      "24982   94.339866  [0.019376455, 8.585837e-05, 0.006260254, 0.009...   \n",
      "24983  108.163177  [0.01645025, 7.7342134e-05, 0.0065448754, 0.00...   \n",
      "24984  107.773964  [0.017106315, 9.0669484e-05, 0.0043702894, 0.0...   \n",
      "24985  105.071541  [0.0177908, 7.509504e-05, 0.006363195, 0.00867...   \n",
      "\n",
      "                                                 SHIMMER  LABEL ATTACK_TYPE  \n",
      "24981  [0.0638294, 0.7039078, 0.011244352, 0.02077117...    0.0         A03  \n",
      "24982  [0.12348801, 1.1660787, 0.0352677, 0.059951678...    0.0         A05  \n",
      "24983  [0.08642773, 0.8861825, 0.022483349, 0.0389944...    0.0         A01  \n",
      "24984  [0.07415222, 0.7064137, 0.014071783, 0.0272301...    0.0         A03  \n",
      "24985  [0.085783735, 0.8934213, 0.0272153, 0.04816611...    0.0         A05  \n",
      "<class 'pandas.core.frame.DataFrame'>\n",
      "Index: 24844 entries, 0 to 24985\n",
      "Data columns (total 11 columns):\n",
      " #   Column       Non-Null Count  Dtype  \n",
      "---  ------       --------------  -----  \n",
      " 0   AUDIO_ID     24844 non-null  object \n",
      " 1   PITCH        24844 non-null  object \n",
      " 2   AVE_PITCH    24844 non-null  float64\n",
      " 3   STD_PITCH    24844 non-null  float64\n",
      " 4   HNR          24844 non-null  object \n",
      " 5   AVE_HNR      24844 non-null  float64\n",
      " 6   STD_HNR      24844 non-null  float64\n",
      " 7   JITTER       24844 non-null  object \n",
      " 8   SHIMMER      24844 non-null  object \n",
      " 9   LABEL        24844 non-null  float64\n",
      " 10  ATTACK_TYPE  24844 non-null  object \n",
      "dtypes: float64(5), object(6)\n",
      "memory usage: 2.3+ MB\n",
      "None\n",
      "          AVE_PITCH     STD_PITCH       AVE_HNR       STD_HNR         LABEL\n",
      "count  24844.000000  24844.000000  24844.000000  24844.000000  24844.000000\n",
      "mean     180.804969     33.419124   -103.343244    102.933022      0.102560\n",
      "std       46.144255     26.001922     26.798970      5.381553      0.303389\n",
      "min       77.845241      2.823585   -177.200648     66.416146      0.000000\n",
      "25%      129.590682     16.749452   -123.794056    100.803609      0.000000\n",
      "50%      193.868688     23.738699   -103.418447    104.448429      0.000000\n",
      "75%      217.013730     42.072213    -83.548374    106.608599      0.000000\n",
      "max      389.748854    222.024618     -7.593505    111.850804      1.000000\n"
     ]
    }
   ],
   "source": [
    "processed_dev = process(feature_dev_path, label_dev_path)\n",
    "processed_dev.to_parquet(r'C:\\Users\\ivyap\\Desktop\\25SU\\TEAMLAB\\prosody_features\\prosody_features_dev_wlabel.parquet')"
   ]
  },
  {
   "cell_type": "code",
   "execution_count": 36,
   "id": "74957c93",
   "metadata": {},
   "outputs": [
    {
     "name": "stdout",
     "output_type": "stream",
     "text": [
      "False\n"
     ]
    }
   ],
   "source": [
    "print(processed_dev['LABEL'].hasnans)"
   ]
  },
  {
   "cell_type": "code",
   "execution_count": null,
   "id": "5b8970e9",
   "metadata": {},
   "outputs": [
    {
     "name": "stdout",
     "output_type": "stream",
     "text": [
      "       AUDIO_ID                                              PITCH  \\\n",
      "0  LA_E_2169831  [nan, nan, nan, nan, nan, nan, nan, nan, nan, ...   \n",
      "1  LA_E_9534923  [nan, nan, nan, nan, nan, nan, nan, nan, nan, ...   \n",
      "2  LA_E_8832198  [nan, nan, nan, nan, nan, 593.6812604851642, 5...   \n",
      "3  LA_E_6890294  [nan, nan, nan, nan, nan, nan, nan, nan, nan, ...   \n",
      "4  LA_E_5780214  [nan, nan, nan, nan, nan, nan, nan, 245.574731...   \n",
      "\n",
      "    AVE_PITCH  STD_PITCH                                                HNR  \\\n",
      "0   95.383667  40.186379  [-200.0, -200.0, -200.0, -200.0, -200.0, -200....   \n",
      "1  116.153108  16.377467  [-200.0, -200.0, -200.0, -200.0, -200.0, -200....   \n",
      "2  193.605533  62.519422  [-200.0, -200.0, -200.0, -200.0, -200.0, -200....   \n",
      "3  103.660462  14.685025  [-200.0, -200.0, -200.0, -200.0, -200.0, -200....   \n",
      "4  192.215761  43.654432  [-200.0, -200.0, -200.0, -200.0, -200.0, -200....   \n",
      "\n",
      "      AVE_HNR     STD_HNR                                             JITTER  \\\n",
      "0 -121.409245  101.844151  [0.035959877, 0.0003858427, 0.017842172, 0.018...   \n",
      "1  -88.456150  106.414495  [0.019693717, 0.00016980035, 0.0070267585, 0.0...   \n",
      "2  -81.823374  105.790344  [0.021604965, 0.00011256235, 0.009859249, 0.01...   \n",
      "3 -164.119916   78.369937  [0.031173298, 0.0003001336, 0.012990155, 0.017...   \n",
      "4  -80.529329  105.580937  [0.019593742, 0.000100925616, 0.008141915, 0.0...   \n",
      "\n",
      "                                             SHIMMER  LABEL ATTACK_TYPE  \n",
      "0  [0.13780725, 1.1925442, 0.062627904, 0.0826282...    0.0         A19  \n",
      "1  [0.099750675, 0.9435077, 0.035510898, 0.050283...    0.0         A14  \n",
      "2  [0.09656505, 0.8984077, 0.029680166, 0.0459983...    0.0         A12  \n",
      "3  [0.14220874, 1.275205, 0.05436011, 0.086739704...    0.0         A17  \n",
      "4  [0.09776613, 0.93990463, 0.029598884, 0.056689...    0.0         A10  \n",
      "           AUDIO_ID                                              PITCH  \\\n",
      "71928  LA_E_3875932  [nan, nan, nan, nan, nan, nan, nan, nan, nan, ...   \n",
      "71929  LA_E_2683119  [nan, nan, nan, nan, 173.39702876879159, 181.3...   \n",
      "71930  LA_E_6736388  [nan, nan, nan, nan, nan, nan, nan, nan, nan, ...   \n",
      "71931  LA_E_7703276  [nan, nan, nan, nan, nan, nan, nan, nan, nan, ...   \n",
      "71932  LA_E_1069633  [nan, nan, nan, nan, nan, nan, nan, nan, nan, ...   \n",
      "\n",
      "        AVE_PITCH  STD_PITCH  \\\n",
      "71928  188.852981  46.800736   \n",
      "71929  207.570344  18.202967   \n",
      "71930  206.628750  62.982544   \n",
      "71931  193.461498  27.921843   \n",
      "71932  225.999303  36.705536   \n",
      "\n",
      "                                                     HNR     AVE_HNR  \\\n",
      "71928  [-200.0, -200.0, -200.0, -200.0, -200.0, -200.... -100.075730   \n",
      "71929  [-200.0, -200.0, -200.0, -200.0, -0.7016472673...  -70.416618   \n",
      "71930  [-200.0, -200.0, -200.0, -200.0, -200.0, -200.... -125.219859   \n",
      "71931  [-200.0, -200.0, -200.0, -200.0, -200.0, -200.... -118.093331   \n",
      "71932  [-200.0, -200.0, -200.0, -200.0, -200.0, -200.... -143.408447   \n",
      "\n",
      "          STD_HNR                                             JITTER  \\\n",
      "71928  105.540247  [0.019706812, 0.00010545217, 0.009452628, 0.01...   \n",
      "71929  106.723465  [0.01238016, 5.9653845e-05, 0.0047337236, 0.00...   \n",
      "71930  101.078457  [0.023740381, 0.00011543325, 0.008411811, 0.00...   \n",
      "71931  103.523603  [0.016445179, 8.574525e-05, 0.004633264, 0.007...   \n",
      "71932   94.241514  [0.0193076, 8.55171e-05, 0.0076665035, 0.00969...   \n",
      "\n",
      "                                                 SHIMMER  LABEL ATTACK_TYPE  \n",
      "71928  [0.16226716, 1.3712586, 0.073366456, 0.0825668...    0.0         A19  \n",
      "71929  [0.07676625, 0.81483054, 0.025606066, 0.035225...    0.0         A14  \n",
      "71930  [0.15826458, 1.2406579, 0.064391114, 0.0929930...    0.0         A19  \n",
      "71931  [0.08321917, 0.8345737, 0.01824067, 0.03404699...    1.0           -  \n",
      "71932  [0.08250663, 0.909642, 0.026883144, 0.04299460...    0.0         A17  \n",
      "<class 'pandas.core.frame.DataFrame'>\n",
      "Index: 71237 entries, 0 to 71932\n",
      "Data columns (total 11 columns):\n",
      " #   Column       Non-Null Count  Dtype  \n",
      "---  ------       --------------  -----  \n",
      " 0   AUDIO_ID     71237 non-null  object \n",
      " 1   PITCH        71237 non-null  object \n",
      " 2   AVE_PITCH    71231 non-null  float64\n",
      " 3   STD_PITCH    71231 non-null  float64\n",
      " 4   HNR          71237 non-null  object \n",
      " 5   AVE_HNR      71237 non-null  float64\n",
      " 6   STD_HNR      71237 non-null  float64\n",
      " 7   JITTER       71237 non-null  object \n",
      " 8   SHIMMER      71237 non-null  object \n",
      " 9   LABEL        71237 non-null  float64\n",
      " 10  ATTACK_TYPE  71237 non-null  object \n",
      "dtypes: float64(5), object(6)\n",
      "memory usage: 6.5+ MB\n",
      "None\n",
      "          AVE_PITCH     STD_PITCH       AVE_HNR       STD_HNR         LABEL\n",
      "count  71231.000000  71231.000000  71237.000000  71237.000000  71237.000000\n",
      "mean     172.892848     32.717197    -87.180563    100.703082      0.103247\n",
      "std       45.995458     24.363260     33.748932      7.105073      0.304283\n",
      "min       77.079015      0.547273   -192.336854     31.344373      0.000000\n",
      "25%      122.929011     16.159342   -112.980582     97.856580      0.000000\n",
      "50%      184.456128     25.709015    -82.594757    103.059473      0.000000\n",
      "75%      204.765163     40.998324    -62.438575    105.636125      0.000000\n",
      "max      401.266677    226.128744     13.204037    111.757411      1.000000\n"
     ]
    }
   ],
   "source": [
    "processed_eval = process(feature_eval_path, label_eval_path)\n",
    "processed_eval.to_parquet(r'C:\\Users\\ivyap\\Desktop\\25SU\\TEAMLAB\\prosody_features\\prosody_features_eval_wlabel.parquet')"
   ]
  },
  {
   "cell_type": "code",
   "execution_count": 38,
   "id": "0df148ee",
   "metadata": {},
   "outputs": [
    {
     "name": "stdout",
     "output_type": "stream",
     "text": [
      "False\n"
     ]
    }
   ],
   "source": [
    "print(processed_eval['LABEL'].hasnans)"
   ]
  },
  {
   "cell_type": "markdown",
   "id": "039ed0b2",
   "metadata": {},
   "source": [
    "### Check if the order of MFCC features matches with that of dataframe"
   ]
  },
  {
   "cell_type": "code",
   "execution_count": 23,
   "id": "2a619258",
   "metadata": {},
   "outputs": [
    {
     "name": "stdout",
     "output_type": "stream",
     "text": [
      "The dtype of the file is <class 'list'>\n",
      "The dtype of the file is <class 'int'>\n",
      "The 1th element in the file is 1\n",
      "The 2th element in the file is 0\n",
      "The 3th element in the file is 0\n",
      "The 4th element in the file is 0\n",
      "The 5th element in the file is 0\n",
      "The 6th element in the file is 0\n",
      "The 7th element in the file is 0\n",
      "The 8th element in the file is 0\n",
      "The 9th element in the file is 0\n",
      "The 10th element in the file is 0\n",
      "The 11th element in the file is 0\n"
     ]
    }
   ],
   "source": [
    "mfcc_label_path = r'C:\\Users\\ivyap\\Desktop\\25SU\\TEAMLAB\\features_qianru\\mfcc_train_60_cnn_label.pkl'\n",
    "mfcc_labels = pd.read_pickle(mfcc_label_path)\n",
    "print(f\"The dtype of the file is {type(mfcc_labels)}\")\n",
    "print(f\"The dtype of the file is {type(mfcc_labels[0])}\")\n",
    "for i, line in enumerate(mfcc_labels):\n",
    "    print(f\"The {i+1}th element in the file is {line}\")\n",
    "    if i == 10: break"
   ]
  },
  {
   "cell_type": "code",
   "execution_count": null,
   "id": "6ed4aaf0",
   "metadata": {},
   "outputs": [
    {
     "name": "stdout",
     "output_type": "stream",
     "text": [
      "[0, 1, 0, 0, 0, 0, 0, 0, 0, 0]\n",
      "False\n"
     ]
    }
   ],
   "source": [
    "train_path = r'C:\\Users\\ivyap\\Desktop\\25SU\\TEAMLAB\\prosody_features\\prosody_features_train_wlabel.parquet'\n",
    "data_frame_labels = pd.read_parquet(train_path, engine=\"pyarrow\")\n",
    "df_labels = data_frame_labels[\"LABEL\"]\n",
    "df_labels_ls = df_labels.to_list()\n",
    "print(df_labels_ls[:10])\n",
    "print(df_labels_ls == mfcc_labels)"
   ]
  },
  {
   "cell_type": "markdown",
   "id": "5a1dce88",
   "metadata": {},
   "source": [
    "### Restructure MFCC into a dataframe (id, mfcc)"
   ]
  },
  {
   "cell_type": "code",
   "execution_count": 2,
   "id": "0d83391b",
   "metadata": {},
   "outputs": [],
   "source": [
    "# --- Step 1: The Foundation - Our Lazy Generator ---\n",
    "# This function reads one file at a time from disk.\n",
    "def mfcc_generator(file_ids, mfcc_folder):\n",
    "    \"\"\"\n",
    "    A generator that yields one MFCC at a time.\n",
    "    \"\"\"\n",
    "    for file_id in file_ids:\n",
    "        file_path = os.path.join(mfcc_folder, f\"{file_id}.npy\")\n",
    "        if os.path.exists(file_path):\n",
    "            mfcc_array = np.load(file_path)\n",
    "            # Yield a dictionary, which is easy to work with.\n",
    "            yield {'AUDIO_ID': file_id, 'MFCC': mfcc_array}"
   ]
  },
  {
   "cell_type": "code",
   "execution_count": 3,
   "id": "4f5017dd",
   "metadata": {},
   "outputs": [],
   "source": [
    "def process_mfcc_files(input_path, output_path):\n",
    "    # --- Step 2: Setup the Batch Processing Loop ---\n",
    "\n",
    "    # --- Inputs ---\n",
    "    all_files = os.listdir(input_path)\n",
    "    ids = [os.path.splitext(f)[0] for f in all_files if f.endswith('.npy')]\n",
    "\n",
    "    # --- Outputs ---\n",
    "    os.makedirs(output_path, exist_ok=True)\n",
    "\n",
    "    # --- Configuration ---\n",
    "    batch_size = 2000 \n",
    "    generator = mfcc_generator(ids, input_path)\n",
    "\n",
    "    chunk = []\n",
    "    chunk_number = 1\n",
    "\n",
    "    print(f\"Starting processing. Will save data in chunks of {batch_size}.\")\n",
    "\n",
    "    # --- Step 3: The Main Loop ---\n",
    "    for data_item in generator:\n",
    "        # Add the loaded item to our current chunk\n",
    "        chunk.append(data_item)\n",
    "        \n",
    "        # When the chunk is full, process and save it\n",
    "        if len(chunk) == batch_size:\n",
    "            chunk_df = pd.DataFrame(chunk)\n",
    "            print(f\"  - Processing chunk {chunk_number} (size: {len(chunk)})...\")\n",
    "            \n",
    "            # --- YOUR PROCESSING LOGIC GOES HERE ---\n",
    "            # For example, you could apply scaling or any other function to each 'mfcc' in the chunk.\n",
    "            # For this demo, we'll just save it as is.\n",
    "            # -----------------------------------------\n",
    "            \n",
    "            # Save the processed chunk to a new file\n",
    "            output_filename = os.path.join(output_path, f\"chunk_{chunk_number}.pkl\")\n",
    "            with open(output_filename, 'wb') as f:\n",
    "                pickle.dump(chunk_df, f)\n",
    "            print(f\"  - Saved {output_filename}\")\n",
    "            \n",
    "            # Reset for the next chunk\n",
    "            chunk = []\n",
    "            chunk_number += 1\n",
    "\n",
    "    # --- Step 4: Handle the Final, Incomplete Chunk ---\n",
    "    # After the loop finishes, there might be leftover items.\n",
    "    if chunk:\n",
    "        print(f\"  - Processing final chunk {chunk_number} (size: {len(chunk)})...\")\n",
    "        chunk_df = pd.DataFrame(chunk)\n",
    "        # --- YOUR PROCESSING LOGIC GOES HERE ---\n",
    "        \n",
    "        output_filename = os.path.join(output_path, f\"chunk_{chunk_number}.pkl\")\n",
    "        with open(output_filename, 'wb') as f:\n",
    "            pickle.dump(chunk_df, f)\n",
    "        print(f\"  - Saved {output_filename}\")\n",
    "\n",
    "    print(\"\\nBatch processing complete!\")"
   ]
  },
  {
   "cell_type": "code",
   "execution_count": 5,
   "id": "20022257",
   "metadata": {},
   "outputs": [],
   "source": [
    "mfcc_train_in = r\"C:\\Users\\ivyap\\Desktop\\25SU\\TEAMLAB\\features_qianru\\mfcc_train_60\\mfcc_train_60\"\n",
    "mfcc_dev_in = r\"C:\\Users\\ivyap\\Desktop\\25SU\\TEAMLAB\\features_qianru\\mfcc_dev_60\\mfcc_dev_60\"\n",
    "mfcc_train_out = r\"C:\\Users\\ivyap\\Desktop\\25SU\\TEAMLAB\\features_qianru\\mfcc_train_chunks\"\n",
    "mfcc_dev_out = r\"C:\\Users\\ivyap\\Desktop\\25SU\\TEAMLAB\\features_qianru\\mfcc_dev_chunks\""
   ]
  },
  {
   "cell_type": "code",
   "execution_count": 4,
   "id": "86057475",
   "metadata": {},
   "outputs": [],
   "source": [
    "mfcc_eval_in = r'C:\\Users\\ivyap\\Desktop\\25SU\\TEAMLAB\\features_qianru\\mfcc_eval_60\\mfcc_eval_60'\n",
    "mfcc_eval_out = r\"C:\\Users\\ivyap\\Desktop\\25SU\\TEAMLAB\\features_qianru\\mfcc_eval_chunks\""
   ]
  },
  {
   "cell_type": "code",
   "execution_count": 5,
   "id": "5cbd9f60",
   "metadata": {},
   "outputs": [
    {
     "name": "stdout",
     "output_type": "stream",
     "text": [
      "Starting processing. Will save data in chunks of 2000.\n",
      "  - Processing chunk 1 (size: 2000)...\n",
      "  - Saved C:\\Users\\ivyap\\Desktop\\25SU\\TEAMLAB\\features_qianru\\mfcc_eval_chunks\\chunk_1.pkl\n",
      "  - Processing chunk 2 (size: 2000)...\n",
      "  - Saved C:\\Users\\ivyap\\Desktop\\25SU\\TEAMLAB\\features_qianru\\mfcc_eval_chunks\\chunk_2.pkl\n",
      "  - Processing chunk 3 (size: 2000)...\n",
      "  - Saved C:\\Users\\ivyap\\Desktop\\25SU\\TEAMLAB\\features_qianru\\mfcc_eval_chunks\\chunk_3.pkl\n",
      "  - Processing chunk 4 (size: 2000)...\n",
      "  - Saved C:\\Users\\ivyap\\Desktop\\25SU\\TEAMLAB\\features_qianru\\mfcc_eval_chunks\\chunk_4.pkl\n",
      "  - Processing chunk 5 (size: 2000)...\n",
      "  - Saved C:\\Users\\ivyap\\Desktop\\25SU\\TEAMLAB\\features_qianru\\mfcc_eval_chunks\\chunk_5.pkl\n",
      "  - Processing chunk 6 (size: 2000)...\n",
      "  - Saved C:\\Users\\ivyap\\Desktop\\25SU\\TEAMLAB\\features_qianru\\mfcc_eval_chunks\\chunk_6.pkl\n",
      "  - Processing chunk 7 (size: 2000)...\n",
      "  - Saved C:\\Users\\ivyap\\Desktop\\25SU\\TEAMLAB\\features_qianru\\mfcc_eval_chunks\\chunk_7.pkl\n",
      "  - Processing chunk 8 (size: 2000)...\n",
      "  - Saved C:\\Users\\ivyap\\Desktop\\25SU\\TEAMLAB\\features_qianru\\mfcc_eval_chunks\\chunk_8.pkl\n",
      "  - Processing chunk 9 (size: 2000)...\n",
      "  - Saved C:\\Users\\ivyap\\Desktop\\25SU\\TEAMLAB\\features_qianru\\mfcc_eval_chunks\\chunk_9.pkl\n",
      "  - Processing chunk 10 (size: 2000)...\n",
      "  - Saved C:\\Users\\ivyap\\Desktop\\25SU\\TEAMLAB\\features_qianru\\mfcc_eval_chunks\\chunk_10.pkl\n",
      "  - Processing chunk 11 (size: 2000)...\n",
      "  - Saved C:\\Users\\ivyap\\Desktop\\25SU\\TEAMLAB\\features_qianru\\mfcc_eval_chunks\\chunk_11.pkl\n",
      "  - Processing chunk 12 (size: 2000)...\n",
      "  - Saved C:\\Users\\ivyap\\Desktop\\25SU\\TEAMLAB\\features_qianru\\mfcc_eval_chunks\\chunk_12.pkl\n",
      "  - Processing chunk 13 (size: 2000)...\n",
      "  - Saved C:\\Users\\ivyap\\Desktop\\25SU\\TEAMLAB\\features_qianru\\mfcc_eval_chunks\\chunk_13.pkl\n",
      "  - Processing chunk 14 (size: 2000)...\n",
      "  - Saved C:\\Users\\ivyap\\Desktop\\25SU\\TEAMLAB\\features_qianru\\mfcc_eval_chunks\\chunk_14.pkl\n",
      "  - Processing chunk 15 (size: 2000)...\n",
      "  - Saved C:\\Users\\ivyap\\Desktop\\25SU\\TEAMLAB\\features_qianru\\mfcc_eval_chunks\\chunk_15.pkl\n",
      "  - Processing chunk 16 (size: 2000)...\n",
      "  - Saved C:\\Users\\ivyap\\Desktop\\25SU\\TEAMLAB\\features_qianru\\mfcc_eval_chunks\\chunk_16.pkl\n",
      "  - Processing chunk 17 (size: 2000)...\n",
      "  - Saved C:\\Users\\ivyap\\Desktop\\25SU\\TEAMLAB\\features_qianru\\mfcc_eval_chunks\\chunk_17.pkl\n",
      "  - Processing chunk 18 (size: 2000)...\n",
      "  - Saved C:\\Users\\ivyap\\Desktop\\25SU\\TEAMLAB\\features_qianru\\mfcc_eval_chunks\\chunk_18.pkl\n",
      "  - Processing chunk 19 (size: 2000)...\n",
      "  - Saved C:\\Users\\ivyap\\Desktop\\25SU\\TEAMLAB\\features_qianru\\mfcc_eval_chunks\\chunk_19.pkl\n",
      "  - Processing chunk 20 (size: 2000)...\n",
      "  - Saved C:\\Users\\ivyap\\Desktop\\25SU\\TEAMLAB\\features_qianru\\mfcc_eval_chunks\\chunk_20.pkl\n",
      "  - Processing chunk 21 (size: 2000)...\n",
      "  - Saved C:\\Users\\ivyap\\Desktop\\25SU\\TEAMLAB\\features_qianru\\mfcc_eval_chunks\\chunk_21.pkl\n",
      "  - Processing chunk 22 (size: 2000)...\n",
      "  - Saved C:\\Users\\ivyap\\Desktop\\25SU\\TEAMLAB\\features_qianru\\mfcc_eval_chunks\\chunk_22.pkl\n",
      "  - Processing chunk 23 (size: 2000)...\n",
      "  - Saved C:\\Users\\ivyap\\Desktop\\25SU\\TEAMLAB\\features_qianru\\mfcc_eval_chunks\\chunk_23.pkl\n",
      "  - Processing chunk 24 (size: 2000)...\n",
      "  - Saved C:\\Users\\ivyap\\Desktop\\25SU\\TEAMLAB\\features_qianru\\mfcc_eval_chunks\\chunk_24.pkl\n",
      "  - Processing chunk 25 (size: 2000)...\n",
      "  - Saved C:\\Users\\ivyap\\Desktop\\25SU\\TEAMLAB\\features_qianru\\mfcc_eval_chunks\\chunk_25.pkl\n",
      "  - Processing chunk 26 (size: 2000)...\n",
      "  - Saved C:\\Users\\ivyap\\Desktop\\25SU\\TEAMLAB\\features_qianru\\mfcc_eval_chunks\\chunk_26.pkl\n",
      "  - Processing chunk 27 (size: 2000)...\n",
      "  - Saved C:\\Users\\ivyap\\Desktop\\25SU\\TEAMLAB\\features_qianru\\mfcc_eval_chunks\\chunk_27.pkl\n",
      "  - Processing chunk 28 (size: 2000)...\n",
      "  - Saved C:\\Users\\ivyap\\Desktop\\25SU\\TEAMLAB\\features_qianru\\mfcc_eval_chunks\\chunk_28.pkl\n",
      "  - Processing chunk 29 (size: 2000)...\n",
      "  - Saved C:\\Users\\ivyap\\Desktop\\25SU\\TEAMLAB\\features_qianru\\mfcc_eval_chunks\\chunk_29.pkl\n",
      "  - Processing chunk 30 (size: 2000)...\n",
      "  - Saved C:\\Users\\ivyap\\Desktop\\25SU\\TEAMLAB\\features_qianru\\mfcc_eval_chunks\\chunk_30.pkl\n",
      "  - Processing chunk 31 (size: 2000)...\n",
      "  - Saved C:\\Users\\ivyap\\Desktop\\25SU\\TEAMLAB\\features_qianru\\mfcc_eval_chunks\\chunk_31.pkl\n",
      "  - Processing chunk 32 (size: 2000)...\n",
      "  - Saved C:\\Users\\ivyap\\Desktop\\25SU\\TEAMLAB\\features_qianru\\mfcc_eval_chunks\\chunk_32.pkl\n",
      "  - Processing chunk 33 (size: 2000)...\n",
      "  - Saved C:\\Users\\ivyap\\Desktop\\25SU\\TEAMLAB\\features_qianru\\mfcc_eval_chunks\\chunk_33.pkl\n",
      "  - Processing chunk 34 (size: 2000)...\n",
      "  - Saved C:\\Users\\ivyap\\Desktop\\25SU\\TEAMLAB\\features_qianru\\mfcc_eval_chunks\\chunk_34.pkl\n",
      "  - Processing chunk 35 (size: 2000)...\n",
      "  - Saved C:\\Users\\ivyap\\Desktop\\25SU\\TEAMLAB\\features_qianru\\mfcc_eval_chunks\\chunk_35.pkl\n",
      "  - Processing final chunk 36 (size: 1933)...\n",
      "  - Saved C:\\Users\\ivyap\\Desktop\\25SU\\TEAMLAB\\features_qianru\\mfcc_eval_chunks\\chunk_36.pkl\n",
      "\n",
      "Batch processing complete!\n"
     ]
    }
   ],
   "source": [
    "process_mfcc_files(mfcc_eval_in, mfcc_eval_out)"
   ]
  },
  {
   "cell_type": "code",
   "execution_count": 6,
   "id": "0e2ae607",
   "metadata": {},
   "outputs": [
    {
     "name": "stdout",
     "output_type": "stream",
     "text": [
      "       AUDIO_ID                                               MFCC\n",
      "0  LA_E_1000147  [[-464.51468, -257.86365, -130.41711, -67.7112...\n",
      "1  LA_E_1000273  [[-536.5208, -552.54047, -419.27435, -223.4209...\n",
      "2  LA_E_1000791  [[-488.60654, -278.21362, -183.99652, -160.356...\n",
      "3  LA_E_1000841  [[-522.5077, -275.63226, -155.25647, -124.8557...\n",
      "4  LA_E_1000989  [[-505.41733, -204.76515, -87.91863, -40.62164...\n",
      "<class 'pandas.core.frame.DataFrame'>\n",
      "RangeIndex: 2000 entries, 0 to 1999\n",
      "Data columns (total 2 columns):\n",
      " #   Column    Non-Null Count  Dtype \n",
      "---  ------    --------------  ----- \n",
      " 0   AUDIO_ID  2000 non-null   object\n",
      " 1   MFCC      2000 non-null   object\n",
      "dtypes: object(2)\n",
      "memory usage: 31.4+ KB\n",
      "None\n",
      "(60, 100)\n"
     ]
    }
   ],
   "source": [
    "# inspect the dataframe \n",
    "inspect = pd.read_pickle(r\"C:\\Users\\ivyap\\Desktop\\25SU\\TEAMLAB\\features_qianru\\mfcc_eval_chunks\\chunk_1.pkl\")\n",
    "print(inspect.head())\n",
    "print(inspect.info())\n",
    "print(inspect['MFCC'][0].shape)"
   ]
  },
  {
   "cell_type": "code",
   "execution_count": 6,
   "id": "3169dd64",
   "metadata": {},
   "outputs": [
    {
     "name": "stdout",
     "output_type": "stream",
     "text": [
      "Starting processing. Will save data in chunks of 2000.\n",
      "  - Processing chunk 1 (size: 2000)...\n",
      "  - Saved C:\\Users\\ivyap\\Desktop\\25SU\\TEAMLAB\\features_qianru\\mfcc_train_chunks\\chunk_1.pkl\n",
      "  - Processing chunk 2 (size: 2000)...\n",
      "  - Saved C:\\Users\\ivyap\\Desktop\\25SU\\TEAMLAB\\features_qianru\\mfcc_train_chunks\\chunk_2.pkl\n",
      "  - Processing chunk 3 (size: 2000)...\n",
      "  - Saved C:\\Users\\ivyap\\Desktop\\25SU\\TEAMLAB\\features_qianru\\mfcc_train_chunks\\chunk_3.pkl\n",
      "  - Processing chunk 4 (size: 2000)...\n",
      "  - Saved C:\\Users\\ivyap\\Desktop\\25SU\\TEAMLAB\\features_qianru\\mfcc_train_chunks\\chunk_4.pkl\n",
      "  - Processing chunk 5 (size: 2000)...\n",
      "  - Saved C:\\Users\\ivyap\\Desktop\\25SU\\TEAMLAB\\features_qianru\\mfcc_train_chunks\\chunk_5.pkl\n",
      "  - Processing chunk 6 (size: 2000)...\n",
      "  - Saved C:\\Users\\ivyap\\Desktop\\25SU\\TEAMLAB\\features_qianru\\mfcc_train_chunks\\chunk_6.pkl\n",
      "  - Processing chunk 7 (size: 2000)...\n",
      "  - Saved C:\\Users\\ivyap\\Desktop\\25SU\\TEAMLAB\\features_qianru\\mfcc_train_chunks\\chunk_7.pkl\n",
      "  - Processing chunk 8 (size: 2000)...\n",
      "  - Saved C:\\Users\\ivyap\\Desktop\\25SU\\TEAMLAB\\features_qianru\\mfcc_train_chunks\\chunk_8.pkl\n",
      "  - Processing chunk 9 (size: 2000)...\n",
      "  - Saved C:\\Users\\ivyap\\Desktop\\25SU\\TEAMLAB\\features_qianru\\mfcc_train_chunks\\chunk_9.pkl\n",
      "  - Processing chunk 10 (size: 2000)...\n",
      "  - Saved C:\\Users\\ivyap\\Desktop\\25SU\\TEAMLAB\\features_qianru\\mfcc_train_chunks\\chunk_10.pkl\n",
      "  - Processing chunk 11 (size: 2000)...\n",
      "  - Saved C:\\Users\\ivyap\\Desktop\\25SU\\TEAMLAB\\features_qianru\\mfcc_train_chunks\\chunk_11.pkl\n",
      "  - Processing chunk 12 (size: 2000)...\n",
      "  - Saved C:\\Users\\ivyap\\Desktop\\25SU\\TEAMLAB\\features_qianru\\mfcc_train_chunks\\chunk_12.pkl\n",
      "  - Processing final chunk 13 (size: 1380)...\n",
      "  - Saved C:\\Users\\ivyap\\Desktop\\25SU\\TEAMLAB\\features_qianru\\mfcc_train_chunks\\chunk_13.pkl\n",
      "\n",
      "Batch processing complete!\n"
     ]
    }
   ],
   "source": [
    "process_mfcc_files(mfcc_train_in, mfcc_train_out)"
   ]
  },
  {
   "cell_type": "code",
   "execution_count": 7,
   "id": "0b253022",
   "metadata": {},
   "outputs": [
    {
     "name": "stdout",
     "output_type": "stream",
     "text": [
      "       AUDIO_ID                                               MFCC\n",
      "0  LA_T_1000137  [[-571.31244, -560.8853, -542.8835, -470.50317...\n",
      "1  LA_T_1000406  [[-450.68988, -438.24133, -444.8367, -449.4927...\n",
      "2  LA_T_1000648  [[-515.3331, -418.13116, -238.26727, -175.8139...\n",
      "3  LA_T_1000824  [[-594.4408, -591.7862, -595.9483, -595.404, -...\n",
      "4  LA_T_1001074  [[-536.61145, -535.7512, -535.2514, -534.74615...\n",
      "<class 'pandas.core.frame.DataFrame'>\n",
      "RangeIndex: 2000 entries, 0 to 1999\n",
      "Data columns (total 2 columns):\n",
      " #   Column    Non-Null Count  Dtype \n",
      "---  ------    --------------  ----- \n",
      " 0   AUDIO_ID  2000 non-null   object\n",
      " 1   MFCC      2000 non-null   object\n",
      "dtypes: object(2)\n",
      "memory usage: 31.4+ KB\n",
      "None\n",
      "(60, 79)\n"
     ]
    }
   ],
   "source": [
    "# inspect the dataframe \n",
    "inspect = pd.read_pickle(r\"C:\\Users\\ivyap\\Desktop\\25SU\\TEAMLAB\\features_qianru\\mfcc_train_chunks\\chunk_1.pkl\")\n",
    "print(inspect.head())\n",
    "print(inspect.info())\n",
    "print(inspect['MFCC'][0].shape)"
   ]
  },
  {
   "cell_type": "code",
   "execution_count": 8,
   "id": "8e8d9b14",
   "metadata": {},
   "outputs": [
    {
     "name": "stdout",
     "output_type": "stream",
     "text": [
      "Starting processing. Will save data in chunks of 2000.\n",
      "  - Processing chunk 1 (size: 2000)...\n",
      "  - Saved C:\\Users\\ivyap\\Desktop\\25SU\\TEAMLAB\\features_qianru\\mfcc_dev_chunks\\chunk_1.pkl\n",
      "  - Processing chunk 2 (size: 2000)...\n",
      "  - Saved C:\\Users\\ivyap\\Desktop\\25SU\\TEAMLAB\\features_qianru\\mfcc_dev_chunks\\chunk_2.pkl\n",
      "  - Processing chunk 3 (size: 2000)...\n",
      "  - Saved C:\\Users\\ivyap\\Desktop\\25SU\\TEAMLAB\\features_qianru\\mfcc_dev_chunks\\chunk_3.pkl\n",
      "  - Processing chunk 4 (size: 2000)...\n",
      "  - Saved C:\\Users\\ivyap\\Desktop\\25SU\\TEAMLAB\\features_qianru\\mfcc_dev_chunks\\chunk_4.pkl\n",
      "  - Processing chunk 5 (size: 2000)...\n",
      "  - Saved C:\\Users\\ivyap\\Desktop\\25SU\\TEAMLAB\\features_qianru\\mfcc_dev_chunks\\chunk_5.pkl\n",
      "  - Processing chunk 6 (size: 2000)...\n",
      "  - Saved C:\\Users\\ivyap\\Desktop\\25SU\\TEAMLAB\\features_qianru\\mfcc_dev_chunks\\chunk_6.pkl\n",
      "  - Processing chunk 7 (size: 2000)...\n",
      "  - Saved C:\\Users\\ivyap\\Desktop\\25SU\\TEAMLAB\\features_qianru\\mfcc_dev_chunks\\chunk_7.pkl\n",
      "  - Processing chunk 8 (size: 2000)...\n",
      "  - Saved C:\\Users\\ivyap\\Desktop\\25SU\\TEAMLAB\\features_qianru\\mfcc_dev_chunks\\chunk_8.pkl\n",
      "  - Processing chunk 9 (size: 2000)...\n",
      "  - Saved C:\\Users\\ivyap\\Desktop\\25SU\\TEAMLAB\\features_qianru\\mfcc_dev_chunks\\chunk_9.pkl\n",
      "  - Processing chunk 10 (size: 2000)...\n",
      "  - Saved C:\\Users\\ivyap\\Desktop\\25SU\\TEAMLAB\\features_qianru\\mfcc_dev_chunks\\chunk_10.pkl\n",
      "  - Processing chunk 11 (size: 2000)...\n",
      "  - Saved C:\\Users\\ivyap\\Desktop\\25SU\\TEAMLAB\\features_qianru\\mfcc_dev_chunks\\chunk_11.pkl\n",
      "  - Processing chunk 12 (size: 2000)...\n",
      "  - Saved C:\\Users\\ivyap\\Desktop\\25SU\\TEAMLAB\\features_qianru\\mfcc_dev_chunks\\chunk_12.pkl\n",
      "  - Processing final chunk 13 (size: 986)...\n",
      "  - Saved C:\\Users\\ivyap\\Desktop\\25SU\\TEAMLAB\\features_qianru\\mfcc_dev_chunks\\chunk_13.pkl\n",
      "\n",
      "Batch processing complete!\n"
     ]
    }
   ],
   "source": [
    "process_mfcc_files(mfcc_dev_in, mfcc_dev_out)"
   ]
  },
  {
   "cell_type": "code",
   "execution_count": 8,
   "id": "6bb8af6c",
   "metadata": {},
   "outputs": [],
   "source": [
    "# join the chunks together\n",
    "def join_chunks(chunk_folder):\n",
    "    combined_df = pd.concat([pd.read_pickle(file) for file in Path(chunk_folder).glob(\"*\")], ignore_index=True)\n",
    "    return combined_df"
   ]
  },
  {
   "cell_type": "code",
   "execution_count": 12,
   "id": "8e0a1e6d",
   "metadata": {},
   "outputs": [
    {
     "name": "stdout",
     "output_type": "stream",
     "text": [
      "       AUDIO_ID                                               MFCC\n",
      "0  LA_T_1000137  [[-571.31244, -560.8853, -542.8835, -470.50317...\n",
      "1  LA_T_1000406  [[-450.68988, -438.24133, -444.8367, -449.4927...\n",
      "2  LA_T_1000648  [[-515.3331, -418.13116, -238.26727, -175.8139...\n",
      "3  LA_T_1000824  [[-594.4408, -591.7862, -595.9483, -595.404, -...\n",
      "4  LA_T_1001074  [[-536.61145, -535.7512, -535.2514, -534.74615...\n",
      "<class 'pandas.core.frame.DataFrame'>\n",
      "RangeIndex: 25380 entries, 0 to 25379\n",
      "Data columns (total 2 columns):\n",
      " #   Column    Non-Null Count  Dtype \n",
      "---  ------    --------------  ----- \n",
      " 0   AUDIO_ID  25380 non-null  object\n",
      " 1   MFCC      25380 non-null  object\n",
      "dtypes: object(2)\n",
      "memory usage: 396.7+ KB\n",
      "None\n"
     ]
    }
   ],
   "source": [
    "mfcc_train_df = join_chunks(mfcc_train_out)\n",
    "print(mfcc_train_df.head())\n",
    "print(mfcc_train_df.info())\n",
    "mfcc_train_df.to_pickle(r\"C:\\Users\\ivyap\\Desktop\\25SU\\TEAMLAB\\features_qianru\\mfcc_train_df.pkl\")"
   ]
  },
  {
   "cell_type": "code",
   "execution_count": 13,
   "id": "d7a0bc43",
   "metadata": {},
   "outputs": [
    {
     "name": "stdout",
     "output_type": "stream",
     "text": [
      "       AUDIO_ID                                               MFCC\n",
      "0  LA_D_1000265  [[-483.3994, -343.02396, -189.55125, -140.4688...\n",
      "1  LA_D_1000752  [[-523.4795, -524.15247, -536.31573, -539.6310...\n",
      "2  LA_D_1001095  [[-555.42523, -546.6975, -544.6387, -547.3739,...\n",
      "3  LA_D_1002130  [[-450.54846, -435.87555, -462.41925, -403.057...\n",
      "4  LA_D_1002200  [[-451.8866, -309.24207, -236.35855, -138.5265...\n",
      "<class 'pandas.core.frame.DataFrame'>\n",
      "RangeIndex: 24986 entries, 0 to 24985\n",
      "Data columns (total 2 columns):\n",
      " #   Column    Non-Null Count  Dtype \n",
      "---  ------    --------------  ----- \n",
      " 0   AUDIO_ID  24986 non-null  object\n",
      " 1   MFCC      24986 non-null  object\n",
      "dtypes: object(2)\n",
      "memory usage: 390.5+ KB\n",
      "None\n"
     ]
    }
   ],
   "source": [
    "mfcc_dev_df = join_chunks(mfcc_dev_out)\n",
    "print(mfcc_dev_df.head())\n",
    "print(mfcc_dev_df.info())\n",
    "mfcc_dev_df.to_pickle(r\"C:\\Users\\ivyap\\Desktop\\25SU\\TEAMLAB\\features_qianru\\mfcc_dev_df.pkl\")"
   ]
  },
  {
   "cell_type": "code",
   "execution_count": 9,
   "id": "56a36389",
   "metadata": {},
   "outputs": [
    {
     "name": "stdout",
     "output_type": "stream",
     "text": [
      "       AUDIO_ID                                               MFCC\n",
      "0  LA_E_1000147  [[-464.51468, -257.86365, -130.41711, -67.7112...\n",
      "1  LA_E_1000273  [[-536.5208, -552.54047, -419.27435, -223.4209...\n",
      "2  LA_E_1000791  [[-488.60654, -278.21362, -183.99652, -160.356...\n",
      "3  LA_E_1000841  [[-522.5077, -275.63226, -155.25647, -124.8557...\n",
      "4  LA_E_1000989  [[-505.41733, -204.76515, -87.91863, -40.62164...\n",
      "<class 'pandas.core.frame.DataFrame'>\n",
      "RangeIndex: 71933 entries, 0 to 71932\n",
      "Data columns (total 2 columns):\n",
      " #   Column    Non-Null Count  Dtype \n",
      "---  ------    --------------  ----- \n",
      " 0   AUDIO_ID  71933 non-null  object\n",
      " 1   MFCC      71933 non-null  object\n",
      "dtypes: object(2)\n",
      "memory usage: 1.1+ MB\n",
      "None\n"
     ]
    }
   ],
   "source": [
    "mfcc_eval_df = join_chunks(mfcc_eval_out)\n",
    "print(mfcc_eval_df.head())\n",
    "print(mfcc_eval_df.info())\n",
    "mfcc_eval_df.to_pickle(r\"C:\\Users\\ivyap\\Desktop\\25SU\\TEAMLAB\\features_qianru\\mfcc_eval_df.pkl\")"
   ]
  },
  {
   "cell_type": "markdown",
   "id": "6b32205c",
   "metadata": {},
   "source": [
    "### Combine MFCC and prosody features"
   ]
  },
  {
   "cell_type": "code",
   "execution_count": null,
   "id": "f70e14d3",
   "metadata": {},
   "outputs": [],
   "source": [
    "# local\n",
    "prosody_train_path = r\"C:\\Users\\ivyap\\Desktop\\25SU\\TEAMLAB\\prosody_features\\prosody_features_train_scaled.pkl\"\n",
    "prosody_dev_path = r\"C:\\Users\\ivyap\\Desktop\\25SU\\TEAMLAB\\prosody_features\\prosody_features_dev_scaled.pkl\"\n",
    "prosody_eval_path = r\"C:\\Users\\ivyap\\Desktop\\25SU\\TEAMLAB\\prosody_features\\prosody_features_eval_scaled.pkl\"\n",
    "prosody_train_df = pd.read_pickle(prosody_train_path)\n",
    "prosody_dev_df = pd.read_pickle(prosody_dev_path)\n",
    "prosody_eval_df = pd.read_pickle(prosody_eval_path)\n",
    "\n",
    "mfcc_train_path = r\"C:\\Users\\ivyap\\Desktop\\25SU\\TEAMLAB\\features_qianru\\mfcc_train_scaled.pkl\"\n",
    "mfcc_dev_path = r\"C:\\Users\\ivyap\\Desktop\\25SU\\TEAMLAB\\features_qianru\\mfcc_dev_scaled.pkl\"\n",
    "mfcc_eval_path = r\"C:\\Users\\ivyap\\Desktop\\25SU\\TEAMLAB\\features_qianru\\mfcc_eval_scaled.pkl\"\n",
    "mfcc_train_df = pd.read_pickle(mfcc_train_path)\n",
    "mfcc_dev_df = pd.read_pickle(mfcc_dev_path)\n",
    "mfcc_eval_df = pd.read_pickle(mfcc_eval_path)\n",
    "\n",
    "train_out_path = r\"C:\\Users\\ivyap\\Desktop\\25SU\\TEAMLAB\\merged_features\\merged_train.pkl\"\n",
    "dev_out_path = r\"C:\\Users\\ivyap\\Desktop\\25SU\\TEAMLAB\\merged_features\\merged_dev.pkl\"\n",
    "eval_out_path = r\"C:\\Users\\ivyap\\Desktop\\25SU\\TEAMLAB\\merged_features\\merged_eval.pkl\""
   ]
  },
  {
   "cell_type": "code",
   "execution_count": 6,
   "id": "b353741c",
   "metadata": {},
   "outputs": [
    {
     "name": "stdout",
     "output_type": "stream",
     "text": [
      "       AUDIO_ID  LABEL ATTACK_TYPE  \\\n",
      "0  LA_E_2169831    0.0         A19   \n",
      "1  LA_E_9534923    0.0         A14   \n",
      "2  LA_E_8832198    0.0         A12   \n",
      "3  LA_E_6890294    0.0         A17   \n",
      "4  LA_E_5780214    0.0         A10   \n",
      "\n",
      "                                               PITCH  \\\n",
      "0  [nan, nan, nan, nan, nan, nan, nan, nan, nan, ...   \n",
      "1  [nan, nan, nan, nan, nan, nan, nan, nan, nan, ...   \n",
      "2  [nan, nan, nan, nan, nan, 0.9879767689678522, ...   \n",
      "3  [nan, nan, nan, nan, nan, nan, nan, nan, nan, ...   \n",
      "4  [nan, nan, nan, nan, nan, nan, nan, 0.32501007...   \n",
      "\n",
      "                                                 HNR  \\\n",
      "0  [0.0, 0.0, 0.0, 0.0, 0.0, 0.0, 0.0, 0.0, 0.0, ...   \n",
      "1  [0.0, 0.0, 0.0, 0.0, 0.0, 0.0, 0.0, 0.0, 0.0, ...   \n",
      "2  [0.0, 0.0, 0.0, 0.0, 0.0, 0.0, 0.8058471428686...   \n",
      "3  [0.0, 0.0, 0.0, 0.0, 0.0, 0.0, 0.0, 0.0, 0.0, ...   \n",
      "4  [0.0, 0.0, 0.0, 0.0, 0.0, 0.0, 0.0, 0.0, 0.814...   \n",
      "\n",
      "                                              JITTER  \\\n",
      "0  [0.33654103, 0.36419114, 0.35868347, 0.2457596...   \n",
      "1  [0.16487662, 0.14844352, 0.13178128, 0.1009589...   \n",
      "2  [0.18504691, 0.091283605, 0.19120556, 0.129402...   \n",
      "3  [0.286026, 0.278599, 0.2568905, 0.22021171, 0....   \n",
      "4  [0.16382153, 0.07966275, 0.15517674, 0.1095857...   \n",
      "\n",
      "                                             SHIMMER  \n",
      "0  [0.39289564, 0.426194, 0.26266587, 0.2702768, ...  \n",
      "1  [0.25592574, 0.30252904, 0.13862807, 0.1533132...  \n",
      "2  [0.24446033, 0.28013358, 0.111957304, 0.137818...  \n",
      "3  [0.4087371, 0.4672412, 0.22484757, 0.28514436,...  \n",
      "4  [0.24878314, 0.30073985, 0.111585505, 0.176479...  \n"
     ]
    }
   ],
   "source": [
    "mfcc_eval_path = \"/home/users1/liqe/TeamLab_phonetics/mfcc_eval_scaled.pkl\"\n",
    "prosody_eval_path = \"/home/users1/liqe/TeamLab_phonetics/prosody_features_eval_scaled.pkl\"\n",
    "mfcc_eval_df = pd.read_pickle(mfcc_eval_path)\n",
    "prosody_eval_df = pd.read_pickle(prosody_eval_path)\n",
    "eval_out_path = \"/home/users1/liqe/TeamLab_phonetics/merged_eval.pkl\"\n",
    "\n",
    "print(prosody_eval_df.head())"
   ]
  },
  {
   "cell_type": "code",
   "execution_count": 7,
   "id": "180677a0",
   "metadata": {},
   "outputs": [],
   "source": [
    "def feature_merging(mfcc_df, prosody_df):\n",
    "    merged_df = pd.merge(\n",
    "        prosody_df,                      # The \"left\" DataFrame (our target)\n",
    "        mfcc_df[['AUDIO_ID', 'MFCC']], # The \"right\" DataFrame (our source)\n",
    "        on='AUDIO_ID',                # The name of the shared column to match on\n",
    "        how='left'                      # The type of merge\n",
    "    )\n",
    "\n",
    "    return merged_df"
   ]
  },
  {
   "cell_type": "code",
   "execution_count": 17,
   "id": "dd83cf22",
   "metadata": {},
   "outputs": [
    {
     "name": "stdout",
     "output_type": "stream",
     "text": [
      "<class 'pandas.core.frame.DataFrame'>\n",
      "RangeIndex: 25379 entries, 0 to 25378\n",
      "Data columns (total 8 columns):\n",
      " #   Column       Non-Null Count  Dtype \n",
      "---  ------       --------------  ----- \n",
      " 0   AUDIO_ID     25379 non-null  object\n",
      " 1   LABEL        25379 non-null  int64 \n",
      " 2   ATTACK_TYPE  25379 non-null  object\n",
      " 3   PITCH        25379 non-null  object\n",
      " 4   HNR          25379 non-null  object\n",
      " 5   JITTER       25379 non-null  object\n",
      " 6   SHIMMER      25379 non-null  object\n",
      " 7   MFCC         25379 non-null  object\n",
      "dtypes: int64(1), object(7)\n",
      "memory usage: 1.5+ MB\n",
      "None\n",
      "       AUDIO_ID  LABEL ATTACK_TYPE  \\\n",
      "0  LA_T_1000137      0         A04   \n",
      "1  LA_T_1000406      1           -   \n",
      "2  LA_T_1000648      0         A01   \n",
      "3  LA_T_1000824      0         A04   \n",
      "4  LA_T_1001074      0         A03   \n",
      "\n",
      "                                               PITCH  \\\n",
      "0  [nan, nan, nan, nan, nan, nan, nan, nan, nan, ...   \n",
      "1  [nan, nan, nan, nan, nan, nan, nan, nan, nan, ...   \n",
      "2  [nan, nan, nan, nan, nan, 0.35835335634967486,...   \n",
      "3  [nan, nan, nan, nan, nan, nan, nan, nan, nan, ...   \n",
      "4  [nan, nan, nan, nan, nan, nan, nan, nan, nan, ...   \n",
      "\n",
      "                                                 HNR  \\\n",
      "0  [0.0, 0.0, 0.0, 0.0, 0.0, 0.0, 0.0, 0.0, 0.0, ...   \n",
      "1  [0.0, 0.0, 0.0, 0.0, 0.0, 0.0, 0.0, 0.0, 0.0, ...   \n",
      "2  [0.0, 0.0, 0.0, 0.0, 0.0, 0.0, 0.7987432090825...   \n",
      "3  [0.0, 0.0, 0.0, 0.0, 0.0, 0.0, 0.0, 0.0, 0.0, ...   \n",
      "4  [0.0, 0.0, 0.0, 0.0, 0.0, 0.0, 0.0, 0.0, 0.0, ...   \n",
      "\n",
      "                                              JITTER  \\\n",
      "0  [0.30073947, 0.23022015, 0.26707897, 0.2538646...   \n",
      "1  [0.1494679, 0.09972349, 0.086890295, 0.0791289...   \n",
      "2  [0.13972145, 0.05122372, 0.123514704, 0.096691...   \n",
      "3  [0.28089172, 0.2684494, 0.23122567, 0.24996407...   \n",
      "4  [0.14094485, 0.068655394, 0.07130514, 0.062871...   \n",
      "\n",
      "                                             SHIMMER  \\\n",
      "0  [0.27033818, 0.33233136, 0.11353744, 0.1519924...   \n",
      "1  [0.13012205, 0.15872449, 0.059600886, 0.081321...   \n",
      "2  [0.28141773, 0.3631905, 0.12680757, 0.17373542...   \n",
      "3  [0.2846507, 0.35503966, 0.13182917, 0.15244015...   \n",
      "4  [0.16095506, 0.21579938, 0.039854582, 0.081848...   \n",
      "\n",
      "                                                MFCC  \n",
      "0  [[0.1484387459922835, 0.16200093723427927, 0.1...  \n",
      "1  [[0.30532823959283734, 0.3215196246426725, 0.3...  \n",
      "2  [[0.22124905242565931, 0.34767620913423164, 0....  \n",
      "3  [[0.11835651055118918, 0.12180925750261756, 0....  \n",
      "4  [[0.1935730941520344, 0.19469196421235288, 0.1...  \n"
     ]
    }
   ],
   "source": [
    "train_merged = feature_merging(mfcc_train_df, prosody_train_df)\n",
    "print(train_merged.info())\n",
    "print(train_merged.head())"
   ]
  },
  {
   "cell_type": "code",
   "execution_count": 20,
   "id": "9b9c1ab0",
   "metadata": {},
   "outputs": [
    {
     "name": "stdout",
     "output_type": "stream",
     "text": [
      "float64\n",
      "False\n"
     ]
    }
   ],
   "source": [
    "print(train_merged['MFCC'][0][0].dtype)\n",
    "print(train_merged['MFCC'].hasnans)"
   ]
  },
  {
   "cell_type": "code",
   "execution_count": 21,
   "id": "ea8ac84f",
   "metadata": {},
   "outputs": [],
   "source": [
    "train_merged.to_pickle(train_out_path)"
   ]
  },
  {
   "cell_type": "code",
   "execution_count": 22,
   "id": "10976849",
   "metadata": {},
   "outputs": [
    {
     "name": "stdout",
     "output_type": "stream",
     "text": [
      "<class 'pandas.core.frame.DataFrame'>\n",
      "RangeIndex: 24844 entries, 0 to 24843\n",
      "Data columns (total 8 columns):\n",
      " #   Column       Non-Null Count  Dtype  \n",
      "---  ------       --------------  -----  \n",
      " 0   AUDIO_ID     24844 non-null  object \n",
      " 1   LABEL        24844 non-null  float64\n",
      " 2   ATTACK_TYPE  24844 non-null  object \n",
      " 3   PITCH        24844 non-null  object \n",
      " 4   HNR          24844 non-null  object \n",
      " 5   JITTER       24844 non-null  object \n",
      " 6   SHIMMER      24844 non-null  object \n",
      " 7   MFCC         24844 non-null  object \n",
      "dtypes: float64(1), object(7)\n",
      "memory usage: 1.5+ MB\n",
      "None\n",
      "       AUDIO_ID  LABEL ATTACK_TYPE  \\\n",
      "0  LA_D_7341689    1.0           -   \n",
      "1  LA_D_9918902    0.0         A03   \n",
      "2  LA_D_1275044    1.0           -   \n",
      "3  LA_D_4897222    0.0         A02   \n",
      "4  LA_D_5631993    0.0         A03   \n",
      "\n",
      "                                               PITCH  \\\n",
      "0  [nan, nan, nan, nan, nan, nan, nan, nan, nan, ...   \n",
      "1  [nan, nan, nan, nan, nan, nan, nan, nan, nan, ...   \n",
      "2  [nan, nan, nan, nan, nan, nan, nan, nan, nan, ...   \n",
      "3  [nan, nan, nan, nan, nan, nan, nan, nan, nan, ...   \n",
      "4  [nan, nan, nan, nan, nan, nan, nan, nan, nan, ...   \n",
      "\n",
      "                                                 HNR  \\\n",
      "0  [0.0, 0.0, 0.0, 0.0, 0.0, 0.0, 0.0, 0.0, 0.0, ...   \n",
      "1  [0.0, 0.0, 0.0, 0.0, 0.0, 0.0, 0.0, 0.0, 0.0, ...   \n",
      "2  [0.0, 0.0, 0.0, 0.0, 0.0, 0.0, 0.0, 0.0, 0.0, ...   \n",
      "3  [0.0, 0.0, 0.0, 0.0, 0.0, 0.0, 0.0, 0.0, 0.0, ...   \n",
      "4  [0.0, 0.0, 0.0, 0.0, 0.0, 0.0, 0.0, 0.0, 0.0, ...   \n",
      "\n",
      "                                              JITTER  \\\n",
      "0  [0.13253999, 0.056896314, 0.11020656, 0.075886...   \n",
      "1  [0.2582017, 0.21776374, 0.1978531, 0.14967977,...   \n",
      "2  [0.11645243, 0.0571051, 0.1166473, 0.08530104,...   \n",
      "3  [0.15573141, 0.1416839, 0.09420093, 0.05928017...   \n",
      "4  [0.18110831, 0.1567238, 0.09723878, 0.09567178...   \n",
      "\n",
      "                                             SHIMMER  \\\n",
      "0  [0.14911835, 0.2014152, 0.06324554, 0.08393805...   \n",
      "1  [0.26271075, 0.34802994, 0.07480621, 0.1297743...   \n",
      "2  [0.1140816, 0.15433928, 0.0761387, 0.08161701,...   \n",
      "3  [0.27433354, 0.31919456, 0.12830767, 0.1743982...   \n",
      "4  [0.25420046, 0.31303987, 0.087328844, 0.139714...   \n",
      "\n",
      "                                                MFCC  \n",
      "0  [[0.22630103574469915, 0.25814314566657753, 0....  \n",
      "1  [[0.1646323538576209, 0.16578170824482757, 0.1...  \n",
      "2  [[0.2550575205112285, 0.2714859926502605, 0.23...  \n",
      "3  [[0.13742437763349058, 0.14678592389381387, 0....  \n",
      "4  [[0.13791331765772086, 0.13892446055244745, 0....  \n"
     ]
    }
   ],
   "source": [
    "dev_merged = feature_merging(mfcc_dev_df, prosody_dev_df)\n",
    "print(dev_merged.info())\n",
    "print(dev_merged.head())"
   ]
  },
  {
   "cell_type": "code",
   "execution_count": 23,
   "id": "13ba0af8",
   "metadata": {},
   "outputs": [],
   "source": [
    "dev_merged.to_pickle(dev_out_path)"
   ]
  },
  {
   "cell_type": "code",
   "execution_count": 8,
   "id": "68f7354a",
   "metadata": {},
   "outputs": [
    {
     "name": "stdout",
     "output_type": "stream",
     "text": [
      "<class 'pandas.core.frame.DataFrame'>\n",
      "RangeIndex: 71237 entries, 0 to 71236\n",
      "Data columns (total 8 columns):\n",
      " #   Column       Non-Null Count  Dtype  \n",
      "---  ------       --------------  -----  \n",
      " 0   AUDIO_ID     71237 non-null  object \n",
      " 1   LABEL        71237 non-null  float64\n",
      " 2   ATTACK_TYPE  71237 non-null  object \n",
      " 3   PITCH        71237 non-null  object \n",
      " 4   HNR          71237 non-null  object \n",
      " 5   JITTER       71237 non-null  object \n",
      " 6   SHIMMER      71237 non-null  object \n",
      " 7   MFCC         71237 non-null  object \n",
      "dtypes: float64(1), object(7)\n",
      "memory usage: 4.3+ MB\n",
      "None\n",
      "       AUDIO_ID  LABEL ATTACK_TYPE  \\\n",
      "0  LA_E_2169831    0.0         A19   \n",
      "1  LA_E_9534923    0.0         A14   \n",
      "2  LA_E_8832198    0.0         A12   \n",
      "3  LA_E_6890294    0.0         A17   \n",
      "4  LA_E_5780214    0.0         A10   \n",
      "\n",
      "                                               PITCH  \\\n",
      "0  [nan, nan, nan, nan, nan, nan, nan, nan, nan, ...   \n",
      "1  [nan, nan, nan, nan, nan, nan, nan, nan, nan, ...   \n",
      "2  [nan, nan, nan, nan, nan, 0.9879767689678522, ...   \n",
      "3  [nan, nan, nan, nan, nan, nan, nan, nan, nan, ...   \n",
      "4  [nan, nan, nan, nan, nan, nan, nan, 0.32501007...   \n",
      "\n",
      "                                                 HNR  \\\n",
      "0  [0.0, 0.0, 0.0, 0.0, 0.0, 0.0, 0.0, 0.0, 0.0, ...   \n",
      "1  [0.0, 0.0, 0.0, 0.0, 0.0, 0.0, 0.0, 0.0, 0.0, ...   \n",
      "2  [0.0, 0.0, 0.0, 0.0, 0.0, 0.0, 0.8058471428686...   \n",
      "3  [0.0, 0.0, 0.0, 0.0, 0.0, 0.0, 0.0, 0.0, 0.0, ...   \n",
      "4  [0.0, 0.0, 0.0, 0.0, 0.0, 0.0, 0.0, 0.0, 0.814...   \n",
      "\n",
      "                                              JITTER  \\\n",
      "0  [0.33654103, 0.36419114, 0.35868347, 0.2457596...   \n",
      "1  [0.16487662, 0.14844352, 0.13178128, 0.1009589...   \n",
      "2  [0.18504691, 0.091283605, 0.19120556, 0.129402...   \n",
      "3  [0.286026, 0.278599, 0.2568905, 0.22021171, 0....   \n",
      "4  [0.16382153, 0.07966275, 0.15517674, 0.1095857...   \n",
      "\n",
      "                                             SHIMMER  \\\n",
      "0  [0.39289564, 0.426194, 0.26266587, 0.2702768, ...   \n",
      "1  [0.25592574, 0.30252904, 0.13862807, 0.1533132...   \n",
      "2  [0.24446033, 0.28013358, 0.111957304, 0.137818...   \n",
      "3  [0.4087371, 0.4672412, 0.22484757, 0.28514436,...   \n",
      "4  [0.24878314, 0.30073985, 0.111585505, 0.176479...   \n",
      "\n",
      "                                                MFCC  \n",
      "0  [[0.081247844, 0.08924089, 0.053809796, 0.0428...  \n",
      "1  [[0.1331286, 0.28491393, 0.399016, 0.43113545,...  \n",
      "2  [[0.28168073, 0.42606103, 0.506252, 0.5736033,...  \n",
      "3  [[0.15397033, 0.18796012, 0.18317115, 0.155499...  \n",
      "4  [[0.030074466, 0.14018333, 0.28137136, 0.37410...  \n"
     ]
    }
   ],
   "source": [
    "eval_merged = feature_merging(mfcc_eval_df, prosody_eval_df)\n",
    "print(eval_merged.info())\n",
    "print(eval_merged.head())"
   ]
  },
  {
   "cell_type": "markdown",
   "id": "f9257d10",
   "metadata": {},
   "source": [
    "### Datacompression(float64 -> float32, int64 -> int8)"
   ]
  },
  {
   "cell_type": "code",
   "execution_count": 10,
   "id": "27384f5c",
   "metadata": {},
   "outputs": [],
   "source": [
    "def compression(df):\n",
    "    df['LABEL'] = df['LABEL'].apply(lambda x: np.int8(x))\n",
    "    df['PITCH'] = df['PITCH'].apply(lambda arr: arr.astype(np.float32))\n",
    "    df['HNR'] = df['HNR'].apply(lambda arr: arr.astype(np.float32))\n",
    "    df['JITTER'] = df['JITTER'].apply(lambda arr: arr.astype(np.float32))\n",
    "    df['SHIMMER'] = df['SHIMMER'].apply(lambda arr: arr.astype(np.float32))\n",
    "    df['MFCC'] = df['MFCC'].apply(lambda arr: arr.astype(np.float32))\n",
    "    return df"
   ]
  },
  {
   "cell_type": "code",
   "execution_count": 27,
   "id": "63724e2d",
   "metadata": {},
   "outputs": [
    {
     "name": "stdout",
     "output_type": "stream",
     "text": [
      "<class 'pandas.core.frame.DataFrame'>\n",
      "RangeIndex: 25379 entries, 0 to 25378\n",
      "Data columns (total 8 columns):\n",
      " #   Column       Non-Null Count  Dtype \n",
      "---  ------       --------------  ----- \n",
      " 0   AUDIO_ID     25379 non-null  object\n",
      " 1   LABEL        25379 non-null  int8  \n",
      " 2   ATTACK_TYPE  25379 non-null  object\n",
      " 3   PITCH        25379 non-null  object\n",
      " 4   HNR          25379 non-null  object\n",
      " 5   JITTER       25379 non-null  object\n",
      " 6   SHIMMER      25379 non-null  object\n",
      " 7   MFCC         25379 non-null  object\n",
      "dtypes: int8(1), object(7)\n",
      "memory usage: 1.4+ MB\n",
      "None\n",
      "       AUDIO_ID  LABEL ATTACK_TYPE  \\\n",
      "0  LA_T_1000137      0         A04   \n",
      "1  LA_T_1000406      1           -   \n",
      "2  LA_T_1000648      0         A01   \n",
      "3  LA_T_1000824      0         A04   \n",
      "4  LA_T_1001074      0         A03   \n",
      "\n",
      "                                               PITCH  \\\n",
      "0  [nan, nan, nan, nan, nan, nan, nan, nan, nan, ...   \n",
      "1  [nan, nan, nan, nan, nan, nan, nan, nan, nan, ...   \n",
      "2  [nan, nan, nan, nan, nan, 0.35835335, 0.350411...   \n",
      "3  [nan, nan, nan, nan, nan, nan, nan, nan, nan, ...   \n",
      "4  [nan, nan, nan, nan, nan, nan, nan, nan, nan, ...   \n",
      "\n",
      "                                                 HNR  \\\n",
      "0  [0.0, 0.0, 0.0, 0.0, 0.0, 0.0, 0.0, 0.0, 0.0, ...   \n",
      "1  [0.0, 0.0, 0.0, 0.0, 0.0, 0.0, 0.0, 0.0, 0.0, ...   \n",
      "2  [0.0, 0.0, 0.0, 0.0, 0.0, 0.0, 0.7987432, 0.79...   \n",
      "3  [0.0, 0.0, 0.0, 0.0, 0.0, 0.0, 0.0, 0.0, 0.0, ...   \n",
      "4  [0.0, 0.0, 0.0, 0.0, 0.0, 0.0, 0.0, 0.0, 0.0, ...   \n",
      "\n",
      "                                              JITTER  \\\n",
      "0  [0.30073947, 0.23022015, 0.26707897, 0.2538646...   \n",
      "1  [0.1494679, 0.09972349, 0.086890295, 0.0791289...   \n",
      "2  [0.13972145, 0.05122372, 0.123514704, 0.096691...   \n",
      "3  [0.28089172, 0.2684494, 0.23122567, 0.24996407...   \n",
      "4  [0.14094485, 0.068655394, 0.07130514, 0.062871...   \n",
      "\n",
      "                                             SHIMMER  \\\n",
      "0  [0.27033818, 0.33233136, 0.11353744, 0.1519924...   \n",
      "1  [0.13012205, 0.15872449, 0.059600886, 0.081321...   \n",
      "2  [0.28141773, 0.3631905, 0.12680757, 0.17373542...   \n",
      "3  [0.2846507, 0.35503966, 0.13182917, 0.15244015...   \n",
      "4  [0.16095506, 0.21579938, 0.039854582, 0.081848...   \n",
      "\n",
      "                                                MFCC  \n",
      "0  [[0.14843875, 0.16200094, 0.18541528, 0.279557...  \n",
      "1  [[0.30532825, 0.3215196, 0.31294125, 0.3068853...  \n",
      "2  [[0.22124906, 0.34767622, 0.5816188, 0.6628496...  \n",
      "3  [[0.11835651, 0.12180926, 0.11639575, 0.117103...  \n",
      "4  [[0.19357309, 0.19469197, 0.19534206, 0.195999...  \n"
     ]
    }
   ],
   "source": [
    "compressed_train_df = compression(train_merged)\n",
    "print(compressed_train_df.info())\n",
    "print(compressed_train_df.head())\n",
    "#compressed_train_df.to_pickle(r'C:\\Users\\ivyap\\Desktop\\25SU\\TEAMLAB\\merged_features\\merged_train_com.pkl')"
   ]
  },
  {
   "cell_type": "code",
   "execution_count": 28,
   "id": "b2b56017",
   "metadata": {},
   "outputs": [],
   "source": [
    "compressed_train_df.to_pickle(r'C:\\Users\\ivyap\\Desktop\\25SU\\TEAMLAB\\merged_features\\merged_train_com.pkl')"
   ]
  },
  {
   "cell_type": "code",
   "execution_count": 29,
   "id": "745f3526",
   "metadata": {},
   "outputs": [],
   "source": [
    "compressed_dev_df = compression(dev_merged)\n",
    "compressed_dev_df.to_pickle(r'C:\\Users\\ivyap\\Desktop\\25SU\\TEAMLAB\\merged_features\\merged_dev_com.pkl')"
   ]
  },
  {
   "cell_type": "code",
   "execution_count": 11,
   "id": "e4fc83bc",
   "metadata": {},
   "outputs": [],
   "source": [
    "compressed_eval_df = compression(eval_merged)\n",
    "compressed_eval_df.to_pickle(\"/home/users1/liqe/TeamLab_phonetics/merged_eval_com.pkl\")"
   ]
  },
  {
   "cell_type": "code",
   "execution_count": 12,
   "id": "4504dc85",
   "metadata": {},
   "outputs": [
    {
     "name": "stdout",
     "output_type": "stream",
     "text": [
      "<class 'pandas.core.frame.DataFrame'>\n",
      "RangeIndex: 71237 entries, 0 to 71236\n",
      "Data columns (total 8 columns):\n",
      " #   Column       Non-Null Count  Dtype \n",
      "---  ------       --------------  ----- \n",
      " 0   AUDIO_ID     71237 non-null  object\n",
      " 1   LABEL        71237 non-null  int8  \n",
      " 2   ATTACK_TYPE  71237 non-null  object\n",
      " 3   PITCH        71237 non-null  object\n",
      " 4   HNR          71237 non-null  object\n",
      " 5   JITTER       71237 non-null  object\n",
      " 6   SHIMMER      71237 non-null  object\n",
      " 7   MFCC         71237 non-null  object\n",
      "dtypes: int8(1), object(7)\n",
      "memory usage: 3.9+ MB\n",
      "None\n",
      "       AUDIO_ID  LABEL ATTACK_TYPE  \\\n",
      "0  LA_E_2169831      0         A19   \n",
      "1  LA_E_9534923      0         A14   \n",
      "2  LA_E_8832198      0         A12   \n",
      "3  LA_E_6890294      0         A17   \n",
      "4  LA_E_5780214      0         A10   \n",
      "\n",
      "                                               PITCH  \\\n",
      "0  [nan, nan, nan, nan, nan, nan, nan, nan, nan, ...   \n",
      "1  [nan, nan, nan, nan, nan, nan, nan, nan, nan, ...   \n",
      "2  [nan, nan, nan, nan, nan, 0.9879768, 0.98452, ...   \n",
      "3  [nan, nan, nan, nan, nan, nan, nan, nan, nan, ...   \n",
      "4  [nan, nan, nan, nan, nan, nan, nan, 0.32501006...   \n",
      "\n",
      "                                                 HNR  \\\n",
      "0  [0.0, 0.0, 0.0, 0.0, 0.0, 0.0, 0.0, 0.0, 0.0, ...   \n",
      "1  [0.0, 0.0, 0.0, 0.0, 0.0, 0.0, 0.0, 0.0, 0.0, ...   \n",
      "2  [0.0, 0.0, 0.0, 0.0, 0.0, 0.0, 0.80584717, 0.8...   \n",
      "3  [0.0, 0.0, 0.0, 0.0, 0.0, 0.0, 0.0, 0.0, 0.0, ...   \n",
      "4  [0.0, 0.0, 0.0, 0.0, 0.0, 0.0, 0.0, 0.0, 0.814...   \n",
      "\n",
      "                                              JITTER  \\\n",
      "0  [0.33654103, 0.36419114, 0.35868347, 0.2457596...   \n",
      "1  [0.16487662, 0.14844352, 0.13178128, 0.1009589...   \n",
      "2  [0.18504691, 0.091283605, 0.19120556, 0.129402...   \n",
      "3  [0.286026, 0.278599, 0.2568905, 0.22021171, 0....   \n",
      "4  [0.16382153, 0.07966275, 0.15517674, 0.1095857...   \n",
      "\n",
      "                                             SHIMMER  \\\n",
      "0  [0.39289564, 0.426194, 0.26266587, 0.2702768, ...   \n",
      "1  [0.25592574, 0.30252904, 0.13862807, 0.1533132...   \n",
      "2  [0.24446033, 0.28013358, 0.111957304, 0.137818...   \n",
      "3  [0.4087371, 0.4672412, 0.22484757, 0.28514436,...   \n",
      "4  [0.24878314, 0.30073985, 0.111585505, 0.176479...   \n",
      "\n",
      "                                                MFCC  \n",
      "0  [[0.081247844, 0.08924089, 0.053809796, 0.0428...  \n",
      "1  [[0.1331286, 0.28491393, 0.399016, 0.43113545,...  \n",
      "2  [[0.28168073, 0.42606103, 0.506252, 0.5736033,...  \n",
      "3  [[0.15397033, 0.18796012, 0.18317115, 0.155499...  \n",
      "4  [[0.030074466, 0.14018333, 0.28137136, 0.37410...  \n",
      "           AUDIO_ID  LABEL ATTACK_TYPE  \\\n",
      "71232  LA_E_3875932      0         A19   \n",
      "71233  LA_E_2683119      0         A14   \n",
      "71234  LA_E_6736388      0         A19   \n",
      "71235  LA_E_7703276      1           -   \n",
      "71236  LA_E_1069633      0         A17   \n",
      "\n",
      "                                                   PITCH  \\\n",
      "71232  [nan, nan, nan, nan, nan, nan, nan, nan, nan, ...   \n",
      "71233  [nan, nan, nan, nan, 0.1875481, 0.20271808, 0....   \n",
      "71234  [nan, nan, nan, nan, nan, nan, nan, nan, nan, ...   \n",
      "71235  [nan, nan, nan, nan, nan, nan, nan, nan, nan, ...   \n",
      "71236  [nan, nan, nan, nan, nan, nan, nan, nan, nan, ...   \n",
      "\n",
      "                                                     HNR  \\\n",
      "71232  [0.0, 0.0, 0.0, 0.0, 0.0, 0.0, 0.0, 0.0, 0.0, ...   \n",
      "71233  [0.0, 0.0, 0.0, 0.0, 0.77128, 0.78995275, 0.80...   \n",
      "71234  [0.0, 0.0, 0.0, 0.0, 0.0, 0.0, 0.0, 0.0, 0.0, ...   \n",
      "71235  [0.0, 0.0, 0.0, 0.0, 0.0, 0.0, 0.0, 0.0, 0.0, ...   \n",
      "71236  [0.0, 0.0, 0.0, 0.0, 0.0, 0.0, 0.0, 0.0, 0.0, ...   \n",
      "\n",
      "                                                  JITTER  \\\n",
      "71232  [0.16501482, 0.08418313, 0.18267485, 0.1291137...   \n",
      "71233  [0.08769324, 0.038447276, 0.08367451, 0.065855...   \n",
      "71234  [0.20758297, 0.09415059, 0.16083902, 0.1122350...   \n",
      "71235  [0.13059327, 0.06450309, 0.08156692, 0.0794123...   \n",
      "71236  [0.16080175, 0.06427525, 0.14520283, 0.1170199...   \n",
      "\n",
      "                                                 SHIMMER  \\\n",
      "71232  [0.48092958, 0.5149389, 0.31178582, 0.27005488...   \n",
      "71233  [0.17320222, 0.23863137, 0.09332167, 0.0988623...   \n",
      "71234  [0.4665239, 0.450086, 0.2707311, 0.30775735, 0...   \n",
      "71235  [0.19642699, 0.2484353, 0.059631098, 0.0946011...   \n",
      "71236  [0.19386247, 0.28571224, 0.09916324, 0.1269568...   \n",
      "\n",
      "                                                    MFCC  \n",
      "71232  [[0.17959481, 0.2125415, 0.20263472, 0.1868716...  \n",
      "71233  [[0.21450177, 0.52968454, 0.6661231, 0.7092665...  \n",
      "71234  [[0.10493324, 0.107521966, 0.10375423, 0.10373...  \n",
      "71235  [[0.10119171, 0.12237145, 0.13234185, 0.135340...  \n",
      "71236  [[0.096311964, 0.09757749, 0.09587068, 0.09673...  \n"
     ]
    }
   ],
   "source": [
    "print(compressed_eval_df.info())\n",
    "print(compressed_eval_df.head())\n",
    "print(compressed_eval_df.tail())"
   ]
  },
  {
   "cell_type": "markdown",
   "id": "5f36f675",
   "metadata": {},
   "source": [
    "### Find out the number of data for each attack type"
   ]
  },
  {
   "cell_type": "code",
   "execution_count": 36,
   "metadata": {},
   "outputs": [
    {
     "name": "stdout",
     "output_type": "stream",
     "text": [
      "count     25379\n",
      "unique        7\n",
      "top         A04\n",
      "freq       3800\n",
      "Name: ATTACK_TYPE, dtype: object\n",
      "             AUDIO_ID  LABEL  PITCH   HNR  JITTER  SHIMMER  MFCC\n",
      "ATTACK_TYPE                                                     \n",
      "-                2580   2580   2580  2580    2580     2580  2580\n",
      "A01              3800   3800   3800  3800    3800     3800  3800\n",
      "A02              3799   3799   3799  3799    3799     3799  3799\n",
      "A03              3800   3800   3800  3800    3800     3800  3800\n",
      "A04              3800   3800   3800  3800    3800     3800  3800\n",
      "A05              3800   3800   3800  3800    3800     3800  3800\n",
      "A06              3800   3800   3800  3800    3800     3800  3800\n",
      "False\n"
     ]
    }
   ],
   "source": [
    "train_path = r'C:\\Users\\ivyap\\Desktop\\25SU\\TEAMLAB\\merged_features\\merged_train_com.pkl'\n",
    "train_df = pd.read_pickle(train_path)\n",
    "print(train_df['ATTACK_TYPE'].describe())\n",
    "print(train_df.groupby('ATTACK_TYPE').count())\n",
    "print(train_df['LABEL'].hasnans)"
   ]
  },
  {
   "attachments": {
    "image.png": {
     "image/png": "[encoded data removed]"
    }
   },
   "cell_type": "markdown",
   "id": "14d21956",
   "metadata": {},
   "source": [
    "![image.png](attachment:image.png)"
   ]
  },
  {
   "cell_type": "markdown",
   "id": "5f7457e9",
   "metadata": {},
   "source": []
  },
  {
   "cell_type": "code",
   "execution_count": null,
   "metadata": {},
   "outputs": [
    {
     "name": "stdout",
     "output_type": "stream",
     "text": [
      "count     24844\n",
      "unique        7\n",
      "top         A03\n",
      "freq       3716\n",
      "Name: ATTACK_TYPE, dtype: object\n",
      "             AUDIO_ID  LABEL  PITCH   HNR  JITTER  SHIMMER  MFCC\n",
      "ATTACK_TYPE                                                     \n",
      "-                2548   2548   2548  2548    2548     2548  2548\n",
      "A01              3716   3716   3716  3716    3716     3716  3716\n",
      "A02              3716   3716   3716  3716    3716     3716  3716\n",
      "A03              3716   3716   3716  3716    3716     3716  3716\n",
      "A04              3716   3716   3716  3716    3716     3716  3716\n",
      "A05              3716   3716   3716  3716    3716     3716  3716\n",
      "A06              3716   3716   3716  3716    3716     3716  3716\n",
      "False\n"
     ]
    }
   ],
   "source": [
    "dev_path = r'C:\\Users\\ivyap\\Desktop\\25SU\\TEAMLAB\\merged_features\\merged_dev_com.pkl'\n",
    "dev_df = pd.read_pickle(dev_path)\n",
    "# print(dev_df['ATTACK_TYPE'].describe())\n",
    "# print(dev_df.groupby('ATTACK_TYPE').count())\n",
    "# print(dev_df['LABEL'].hasnans)"
   ]
  },
  {
   "cell_type": "markdown",
   "id": "00bc1c36",
   "metadata": {},
   "source": [
    "### Reminder"
   ]
  },
  {
   "cell_type": "markdown",
   "id": "fdb3d16c",
   "metadata": {},
   "source": [
    "- There are missing feature in the testing data, need double check the audio file manually and probably add (try/except) in the testing process.\n",
    "- move wandb out of TeamLab file on remote server"
   ]
  },
  {
   "cell_type": "markdown",
   "id": "1c9711c3",
   "metadata": {},
   "source": []
  }
 ],
 "metadata": {
  "kernelspec": {
   "display_name": "pytorch0",
   "language": "python",
   "name": "python3"
  },
  "language_info": {
   "codemirror_mode": {
    "name": "ipython",
    "version": 3
   },
   "file_extension": ".py",
   "mimetype": "text/x-python",
   "name": "python",
   "nbconvert_exporter": "python",
   "pygments_lexer": "ipython3",
   "version": "3.11.11"
  }
 },
 "nbformat": 4,
 "nbformat_minor": 5
}

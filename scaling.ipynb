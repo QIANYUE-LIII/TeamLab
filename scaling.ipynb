{
 "cells": [
  {
   "cell_type": "code",
   "execution_count": 1,
   "id": "3ba35d12",
   "metadata": {},
   "outputs": [],
   "source": [
    "import numpy as np\n",
    "import pandas as pd"
   ]
  },
  {
   "cell_type": "markdown",
   "id": "c3a214ca",
   "metadata": {},
   "source": [
    "### scaling for one feature"
   ]
  },
  {
   "cell_type": "code",
   "execution_count": 2,
   "id": "89c972db",
   "metadata": {},
   "outputs": [],
   "source": [
    "# scaling for sequential data (pitch & hnr)\n",
    "def scaling_seq(feature):\n",
    "    max = float('-inf')\n",
    "    min = float('inf')\n",
    "\n",
    "    # find the max and min\n",
    "    # each line is np.ndarray containing a sequence of floats\n",
    "    for line in feature:\n",
    "        max_line = np.nanmax(line)  # ignore nans\n",
    "        min_line = np.nanmin(line)\n",
    "        if max_line > max:\n",
    "            max = max_line\n",
    "        if min_line < min:\n",
    "            min = min_line\n",
    "    print(f\"the max value is {max}\")\n",
    "    print(f\"the min value is {min}\")\n",
    "\n",
    "    ### faster if the size of arrays is not that big\n",
    "    # all_values = np.concatenate([arr for arr in feature if arr.size > 0])\n",
    "    # min = np.min(all_values)\n",
    "    # max = np.max(all_values)\n",
    "    \n",
    "    # scaling\n",
    "    scaled_feature = []\n",
    "    difference = max - min\n",
    "    for line in feature:\n",
    "        scaled_list = []\n",
    "        for i in range(len(line)):\n",
    "            scaled_list.append((line[i] - min) / difference)\n",
    "        scaled_feature.append(np.array(scaled_list))\n",
    "\n",
    "    return(scaled_feature)\n",
    "\n",
    "\n",
    "# scaling for non-sequential data (jitter & shimmer)\n",
    "def scaling_nonseq(feature):\n",
    "    dim = len(feature[0])\n",
    "    max = [float('-inf')]*dim\n",
    "    min = [float('inf')]*dim\n",
    "\n",
    "    # find the max and min for each dimasion\n",
    "    # each line is np.array containing floats in diffrent dim\n",
    "    for line in feature:\n",
    "        for i in range(len(line)):\n",
    "            if line[i] > max[i]:\n",
    "                max[i] = line[i]\n",
    "            if line[i] < min[i]:\n",
    "                min[i] = line[i]\n",
    "    print(f\"the max value is {max}\")\n",
    "    print(f\"the min value is {min}\")\n",
    "\n",
    "    # scaling\n",
    "    scaled_feature = []\n",
    "    difference = [a - b for a,b in zip(max, min)]\n",
    "    for line in feature:\n",
    "        scaled_list = []\n",
    "        for i in range(len(line)):\n",
    "            scaled_list.append((line[i] - min[i]) / difference[i])\n",
    "        scaled_feature.append(np.array(scaled_list))\n",
    "\n",
    "    return scaled_feature\n",
    "    "
   ]
  },
  {
   "cell_type": "markdown",
   "id": "feb25773",
   "metadata": {},
   "source": [
    "### scaling for the entire dataframe"
   ]
  },
  {
   "cell_type": "code",
   "execution_count": 3,
   "id": "956b74eb",
   "metadata": {},
   "outputs": [],
   "source": [
    "# replace the values in the dataframe with the scaled ones\n",
    "def processing(df):\n",
    "    print(f\"---processing pitch---\")\n",
    "    pitch_scaled = scaling_seq(df['PITCH'])\n",
    "    print(f\"---processing hnr---\")\n",
    "    hnr_scaled = scaling_seq(df['HNR'])\n",
    "    print(f\"---processing jitter---\")\n",
    "    jitter_scaled = scaling_nonseq(df['JITTER'])\n",
    "    print(f\"---processing shimmer---\")\n",
    "    shimmer_scaled = scaling_nonseq(df['SHIMMER'])\n",
    "\n",
    "    data = {'AUDIO_ID': df['AUDIO_ID'],\n",
    "            'PITCH': pitch_scaled,\n",
    "            'HNR': hnr_scaled,\n",
    "            'JITTER': jitter_scaled,\n",
    "            'SHIMMER': shimmer_scaled}\n",
    "    \n",
    "    return data"
   ]
  },
  {
   "cell_type": "markdown",
   "id": "2e763332",
   "metadata": {},
   "source": [
    "### produce new data files"
   ]
  },
  {
   "cell_type": "code",
   "execution_count": 6,
   "id": "b5ebab9f",
   "metadata": {},
   "outputs": [
    {
     "name": "stdout",
     "output_type": "stream",
     "text": [
      "---processing pitch---\n",
      "the max value is 599.9943456812225\n",
      "the min value is 74.92041345964803\n",
      "---processing hnr---\n",
      "the max value is 58.399494463862524\n",
      "the min value is -200.0\n",
      "---processing jitter---\n",
      "the max value is [0.09882632, 0.0010225201, 0.048410866, 0.07295901, 0.1452326]\n",
      "the min value is [0.004070737, 2.1154045e-05, 0.00074533327, 0.0013134623, 0.0022359998]\n",
      "---processing shimmer---\n",
      "the max value is [0.30648893, 2.348075, 0.22382307, 0.28442547, 0.8268665, 0.6714692]\n",
      "the min value is [0.028642662, 0.33427465, 0.0052041854, 0.007886035, 0.0037046608, 0.015612557]\n"
     ]
    }
   ],
   "source": [
    "train_path = '~/TeamLab_phonetics/prosody_features_train.parquet'\n",
    "df_train = pd.read_parquet(train_path, engine='pyarrow')\n",
    "train_scaled = processing(df_train)\n",
    "df_train_scaled= pd.DataFrame(train_scaled)\n",
    "#df_train_scaled.to_parquet(\"~/TeamLab_phonetics/prosody_features_train_scaled.parquet\", engine='pyarrow')"
   ]
  },
  {
   "cell_type": "code",
   "execution_count": 5,
   "id": "b8a5a5ba",
   "metadata": {},
   "outputs": [
    {
     "name": "stdout",
     "output_type": "stream",
     "text": [
      "---processing pitch---\n",
      "the max value is 599.9929872589257\n",
      "the min value is 74.93587631992636\n",
      "---processing hnr---\n",
      "the max value is 59.098423647801646\n",
      "the min value is -200.0\n",
      "---processing jitter---\n",
      "the max value is [0.08257678, 0.0007544664, 0.049969174, 0.053996816, 0.14990751]\n",
      "the min value is [0.0038994069, 1.7135175e-05, 0.0009003427, 0.0010258049, 0.0027010283]\n",
      "---processing shimmer---\n",
      "the max value is [0.2777213, 2.1647418, 0.1822776, 0.26462653, 0.73973536, 0.5468328]\n",
      "the min value is [0.03461318, 0.41222075, 0.004212566, 0.008448172, 0.003971915, 0.012637698]\n"
     ]
    }
   ],
   "source": [
    "\n",
    "dev_path = '~/TeamLab_phonetics/prosody_features_dev.parquet'\n",
    "df_dev = pd.read_parquet(dev_path, engine='pyarrow')\n",
    "dev_scaled = processing(df_dev)\n",
    "df_dev_scaled= pd.DataFrame(dev_scaled)\n",
    "df_dev_scaled.to_parquet(\"~/TeamLab_phonetics/prosody_features_dev_scaled.parquet\", engine='pyarrow')"
   ]
  },
  {
   "cell_type": "code",
   "execution_count": 6,
   "id": "835610c4",
   "metadata": {},
   "outputs": [
    {
     "name": "stdout",
     "output_type": "stream",
     "text": [
      "---processing pitch---\n"
     ]
    },
    {
     "name": "stderr",
     "output_type": "stream",
     "text": [
      "/tmp/ipykernel_2730799/1534325515.py:9: RuntimeWarning: All-NaN slice encountered\n",
      "  max_line = np.nanmax(line)  # ignore nans\n",
      "/tmp/ipykernel_2730799/1534325515.py:10: RuntimeWarning: All-NaN slice encountered\n",
      "  min_line = np.nanmin(line)\n"
     ]
    },
    {
     "name": "stdout",
     "output_type": "stream",
     "text": [
      "the max value is 599.9972615174114\n",
      "the min value is 74.87789784576898\n",
      "---processing hnr---\n",
      "the max value is 72.20490462705462\n",
      "the min value is -200.0\n",
      "---processing jitter---\n",
      "the max value is [0.115006894, 0.00097466557, 0.054002304, 0.083621025, 0.16200691]\n",
      "the min value is [0.0028957126, 1.42644185e-05, 0.0010090551, 0.0014599963, 0.003027165]\n",
      "---processing shimmer---\n",
      "the max value is [0.286747, 2.5312984, 0.1651646, 0.30076027, 0.8187512, 0.49549383]\n",
      "the min value is [0.031257696, 0.304777, 0.0063738464, 0.0011641324, 0.0012013044, 0.019121539]\n"
     ]
    }
   ],
   "source": [
    "eval_path = '~/TeamLab_phonetics/prosody_features_eval.parquet'\n",
    "df_eval = pd.read_parquet(eval_path, engine='pyarrow')\n",
    "eval_scaled = processing(df_eval)\n",
    "df_eval_scaled= pd.DataFrame(eval_scaled)\n",
    "df_eval_scaled.to_parquet(\"~/TeamLab_phonetics/prosody_features_eval_scaled.parquet\", engine='pyarrow')"
   ]
  },
  {
   "cell_type": "markdown",
   "id": "a3c7e6dd",
   "metadata": {},
   "source": [
    "### Inspection of the new dataframes"
   ]
  },
  {
   "cell_type": "code",
   "execution_count": null,
   "id": "18fbf535",
   "metadata": {},
   "outputs": [],
   "source": [
    "print(df_train['PITCH'].describe())"
   ]
  },
  {
   "cell_type": "code",
   "execution_count": null,
   "id": "8f98620b",
   "metadata": {},
   "outputs": [],
   "source": [
    "print(df_train_scaled['PITCH'].describe())"
   ]
  },
  {
   "cell_type": "code",
   "execution_count": null,
   "id": "8bb65876",
   "metadata": {},
   "outputs": [
    {
     "name": "stdout",
     "output_type": "stream",
     "text": [
      "       AUDIO_ID                                              PITCH  \\\n",
      "0  LA_T_1000137  [nan, nan, nan, nan, nan, nan, nan, nan, nan, ...   \n",
      "1  LA_T_1000406  [nan, nan, nan, nan, nan, nan, nan, nan, nan, ...   \n",
      "2  LA_T_1000648  [nan, nan, nan, nan, nan, 0.35835335634967486,...   \n",
      "3  LA_T_1000824  [nan, nan, nan, nan, nan, nan, nan, nan, nan, ...   \n",
      "4  LA_T_1001074  [nan, nan, nan, nan, nan, nan, nan, nan, nan, ...   \n",
      "\n",
      "                                                 HNR  \\\n",
      "0  [0.0, 0.0, 0.0, 0.0, 0.0, 0.0, 0.0, 0.0, 0.0, ...   \n",
      "1  [0.0, 0.0, 0.0, 0.0, 0.0, 0.0, 0.0, 0.0, 0.0, ...   \n",
      "2  [0.0, 0.0, 0.0, 0.0, 0.0, 0.0, 0.7987432090825...   \n",
      "3  [0.0, 0.0, 0.0, 0.0, 0.0, 0.0, 0.0, 0.0, 0.0, ...   \n",
      "4  [0.0, 0.0, 0.0, 0.0, 0.0, 0.0, 0.0, 0.0, 0.0, ...   \n",
      "\n",
      "                                              JITTER  \\\n",
      "0  [0.30073947, 0.23022015, 0.26707897, 0.2538646...   \n",
      "1  [0.1494679, 0.09972349, 0.086890295, 0.0791289...   \n",
      "2  [0.13972145, 0.05122372, 0.123514704, 0.096691...   \n",
      "3  [0.28089172, 0.2684494, 0.23122567, 0.24996407...   \n",
      "4  [0.14094485, 0.068655394, 0.07130514, 0.062871...   \n",
      "\n",
      "                                             SHIMMER  \n",
      "0  [0.27033818, 0.33233136, 0.11353744, 0.1519924...  \n",
      "1  [0.13012205, 0.15872449, 0.059600886, 0.081321...  \n",
      "2  [0.28141773, 0.3631905, 0.12680757, 0.17373542...  \n",
      "3  [0.2846507, 0.35503966, 0.13182917, 0.15244015...  \n",
      "4  [0.16095506, 0.21579938, 0.039854582, 0.081848...  \n"
     ]
    }
   ],
   "source": [
    "print(df_train_scaled.head())\n",
    "print(df_train_scaled.describe())"
   ]
  },
  {
   "cell_type": "code",
   "execution_count": null,
   "id": "09f738c3",
   "metadata": {},
   "outputs": [],
   "source": []
  }
 ],
 "metadata": {
  "kernelspec": {
   "display_name": "pytorch0",
   "language": "python",
   "name": "python3"
  },
  "language_info": {
   "codemirror_mode": {
    "name": "ipython",
    "version": 3
   },
   "file_extension": ".py",
   "mimetype": "text/x-python",
   "name": "python",
   "nbconvert_exporter": "python",
   "pygments_lexer": "ipython3",
   "version": "3.11.11"
  }
 },
 "nbformat": 4,
 "nbformat_minor": 5
}

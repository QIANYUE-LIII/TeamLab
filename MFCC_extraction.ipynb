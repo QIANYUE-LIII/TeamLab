{
 "cells": [
  {
   "cell_type": "code",
   "execution_count": 4,
   "id": "e259d0c0-6a74-4e35-b647-b9e43ee9c4fe",
   "metadata": {},
   "outputs": [
    {
     "name": "stdout",
     "output_type": "stream",
     "text": [
      "Collecting librosa\n",
      "  Downloading librosa-0.11.0-py3-none-any.whl.metadata (8.7 kB)\n",
      "Requirement already satisfied: numpy in /opt/anaconda3/lib/python3.13/site-packages (2.1.3)\n",
      "Collecting audioread>=2.1.9 (from librosa)\n",
      "  Downloading audioread-3.0.1-py3-none-any.whl.metadata (8.4 kB)\n",
      "Requirement already satisfied: numba>=0.51.0 in /opt/anaconda3/lib/python3.13/site-packages (from librosa) (0.61.0)\n",
      "Requirement already satisfied: scipy>=1.6.0 in /opt/anaconda3/lib/python3.13/site-packages (from librosa) (1.15.3)\n",
      "Requirement already satisfied: scikit-learn>=1.1.0 in /opt/anaconda3/lib/python3.13/site-packages (from librosa) (1.6.1)\n",
      "Requirement already satisfied: joblib>=1.0 in /opt/anaconda3/lib/python3.13/site-packages (from librosa) (1.4.2)\n",
      "Requirement already satisfied: decorator>=4.3.0 in /opt/anaconda3/lib/python3.13/site-packages (from librosa) (5.1.1)\n",
      "Collecting soundfile>=0.12.1 (from librosa)\n",
      "  Downloading soundfile-0.13.1-py2.py3-none-macosx_11_0_arm64.whl.metadata (16 kB)\n",
      "Collecting pooch>=1.1 (from librosa)\n",
      "  Downloading pooch-1.8.2-py3-none-any.whl.metadata (10 kB)\n",
      "Collecting soxr>=0.3.2 (from librosa)\n",
      "  Downloading soxr-0.5.0.post1-cp312-abi3-macosx_11_0_arm64.whl.metadata (5.6 kB)\n",
      "Requirement already satisfied: typing_extensions>=4.1.1 in /opt/anaconda3/lib/python3.13/site-packages (from librosa) (4.12.2)\n",
      "Requirement already satisfied: lazy_loader>=0.1 in /opt/anaconda3/lib/python3.13/site-packages (from librosa) (0.4)\n",
      "Requirement already satisfied: msgpack>=1.0 in /opt/anaconda3/lib/python3.13/site-packages (from librosa) (1.0.3)\n",
      "Collecting standard-aifc (from librosa)\n",
      "  Downloading standard_aifc-3.13.0-py3-none-any.whl.metadata (969 bytes)\n",
      "Collecting standard-sunau (from librosa)\n",
      "  Downloading standard_sunau-3.13.0-py3-none-any.whl.metadata (914 bytes)\n",
      "Requirement already satisfied: packaging in /opt/anaconda3/lib/python3.13/site-packages (from lazy_loader>=0.1->librosa) (24.2)\n",
      "Requirement already satisfied: llvmlite<0.45,>=0.44.0dev0 in /opt/anaconda3/lib/python3.13/site-packages (from numba>=0.51.0->librosa) (0.44.0)\n",
      "Requirement already satisfied: platformdirs>=2.5.0 in /opt/anaconda3/lib/python3.13/site-packages (from pooch>=1.1->librosa) (4.3.7)\n",
      "Requirement already satisfied: requests>=2.19.0 in /opt/anaconda3/lib/python3.13/site-packages (from pooch>=1.1->librosa) (2.32.3)\n",
      "Requirement already satisfied: charset-normalizer<4,>=2 in /opt/anaconda3/lib/python3.13/site-packages (from requests>=2.19.0->pooch>=1.1->librosa) (3.3.2)\n",
      "Requirement already satisfied: idna<4,>=2.5 in /opt/anaconda3/lib/python3.13/site-packages (from requests>=2.19.0->pooch>=1.1->librosa) (3.7)\n",
      "Requirement already satisfied: urllib3<3,>=1.21.1 in /opt/anaconda3/lib/python3.13/site-packages (from requests>=2.19.0->pooch>=1.1->librosa) (2.3.0)\n",
      "Requirement already satisfied: certifi>=2017.4.17 in /opt/anaconda3/lib/python3.13/site-packages (from requests>=2.19.0->pooch>=1.1->librosa) (2025.4.26)\n",
      "Requirement already satisfied: threadpoolctl>=3.1.0 in /opt/anaconda3/lib/python3.13/site-packages (from scikit-learn>=1.1.0->librosa) (3.5.0)\n",
      "Requirement already satisfied: cffi>=1.0 in /opt/anaconda3/lib/python3.13/site-packages (from soundfile>=0.12.1->librosa) (1.17.1)\n",
      "Requirement already satisfied: pycparser in /opt/anaconda3/lib/python3.13/site-packages (from cffi>=1.0->soundfile>=0.12.1->librosa) (2.21)\n",
      "Collecting standard-chunk (from standard-aifc->librosa)\n",
      "  Downloading standard_chunk-3.13.0-py3-none-any.whl.metadata (860 bytes)\n",
      "Collecting audioop-lts (from standard-aifc->librosa)\n",
      "  Downloading audioop_lts-0.2.1-cp313-abi3-macosx_11_0_arm64.whl.metadata (1.6 kB)\n",
      "Downloading librosa-0.11.0-py3-none-any.whl (260 kB)\n",
      "Downloading audioread-3.0.1-py3-none-any.whl (23 kB)\n",
      "Downloading pooch-1.8.2-py3-none-any.whl (64 kB)\n",
      "Downloading soundfile-0.13.1-py2.py3-none-macosx_11_0_arm64.whl (1.1 MB)\n",
      "\u001b[2K   \u001b[90m━━━━━━━━━━━━━━━━━━━━━━━━━━━━━━━━━━━━━━━━\u001b[0m \u001b[32m1.1/1.1 MB\u001b[0m \u001b[31m5.9 MB/s\u001b[0m eta \u001b[36m0:00:00\u001b[0m\n",
      "\u001b[?25hDownloading soxr-0.5.0.post1-cp312-abi3-macosx_11_0_arm64.whl (156 kB)\n",
      "Downloading standard_aifc-3.13.0-py3-none-any.whl (10 kB)\n",
      "Downloading audioop_lts-0.2.1-cp313-abi3-macosx_11_0_arm64.whl (26 kB)\n",
      "Downloading standard_chunk-3.13.0-py3-none-any.whl (4.9 kB)\n",
      "Downloading standard_sunau-3.13.0-py3-none-any.whl (7.4 kB)\n",
      "Installing collected packages: standard-chunk, soxr, audioread, audioop-lts, standard-sunau, standard-aifc, soundfile, pooch, librosa\n",
      "\u001b[2K   \u001b[90m━━━━━━━━━━━━━━━━━━━━━━━━━━━━━━━━━━━━━━━━\u001b[0m \u001b[32m9/9\u001b[0m [librosa]\n",
      "\u001b[1A\u001b[2KSuccessfully installed audioop-lts-0.2.1 audioread-3.0.1 librosa-0.11.0 pooch-1.8.2 soundfile-0.13.1 soxr-0.5.0.post1 standard-aifc-3.13.0 standard-chunk-3.13.0 standard-sunau-3.13.0\n",
      "Note: you may need to restart the kernel to use updated packages.\n"
     ]
    }
   ],
   "source": [
    "pip install librosa numpy"
   ]
  },
  {
   "cell_type": "code",
   "execution_count": 5,
   "id": "68121906-b1de-4460-8c7b-4f9a82b87479",
   "metadata": {},
   "outputs": [],
   "source": [
    "import librosa\n",
    "import numpy as np\n",
    "import os"
   ]
  },
  {
   "cell_type": "code",
   "execution_count": 6,
   "id": "43306a6c-d40d-43ec-95d5-fbc18902816d",
   "metadata": {},
   "outputs": [],
   "source": [
    "def extract_and_save_mfcc(flac_folder, save_folder, n_mfcc):\n",
    "    # flac_folder = '../data/raw/ASVspoof2019_LA_train/flac/'\n",
    "    # save_folder = '../data/features/mfcc_train/mfcc_train_{n_mfcc}/'\n",
    "    os.makedirs(save_folder, exist_ok=True)\n",
    "    for filename in os.listdir(flac_folder):\n",
    "        if filename.endswith('.flac'):\n",
    "            file_path = os.path.join(flac_folder, filename)        \n",
    "            # 1. Load the audio file\n",
    "            audio, sr = librosa.load(file_path, sr=None)     \n",
    "            # 2. Extract MFCC features\n",
    "            mfcc_feature = librosa.feature.mfcc(y=audio, sr=sr, n_mfcc=n_mfcc)        \n",
    "            # 3. Save MFCC features as a .npy file\n",
    "            save_path = os.path.join(save_folder, filename.replace('.flac', '.npy'))\n",
    "            np.save(save_path, mfcc_feature)"
   ]
  },
  {
   "cell_type": "code",
   "execution_count": 42,
   "id": "061abbad-052a-4418-bbee-79def2236101",
   "metadata": {},
   "outputs": [],
   "source": [
    "extract_and_save_mfcc(flac_folder = '../data/raw/ASVspoof2019_LA_train/flac/',save_folder = '../data/features/mfcc_train/mfcc_train_30/', n_mfcc = 30)"
   ]
  },
  {
   "cell_type": "code",
   "execution_count": null,
   "id": "2d1e7fbc-6b59-4003-9ed7-1838d5d1ac62",
   "metadata": {},
   "outputs": [],
   "source": [
    "extract_and_save_mfcc(flac_folder = '../data/raw/ASVspoof2019_LA_train/flac/', save_folder = '../data/features/mfcc_train/mfcc_train_60/', n_mfcc = 60)"
   ]
  },
  {
   "cell_type": "code",
   "execution_count": 7,
   "id": "abc3ab3a-9862-4367-aad7-96ac30446121",
   "metadata": {},
   "outputs": [],
   "source": [
    "extract_and_save_mfcc(flac_folder = '../data/raw/ASVspoof2019_LA_dev/flac/', save_folder = '../data/features/mfcc_dev/mfcc_dev_30/', n_mfcc = 30)"
   ]
  },
  {
   "cell_type": "code",
   "execution_count": 7,
   "id": "92e46f67-8b74-44c9-aa14-73284c50e6ab",
   "metadata": {},
   "outputs": [],
   "source": [
    "extract_and_save_mfcc(flac_folder = '../data/raw/ASVspoof2019_LA_dev/flac/', save_folder = '../data/features/mfcc_dev/mfcc_dev_60/', n_mfcc = 60)"
   ]
  },
  {
   "cell_type": "code",
   "execution_count": 7,
   "id": "4b679279-cf37-43c8-abda-185699257046",
   "metadata": {},
   "outputs": [],
   "source": [
    "extract_and_save_mfcc(flac_folder = '../data/raw/ASVspoof2019_LA_eval/flac/',save_folder = '../data/features/mfcc_eval/', n_mfcc = 60)"
   ]
  },
  {
   "cell_type": "code",
   "execution_count": 31,
   "id": "95b7c260-7e02-43a5-bd1d-82341972a817",
   "metadata": {},
   "outputs": [],
   "source": [
    "# flac_folder = '../data/raw/ASVspoof2019_LA_train/flac/'\n",
    "# save_folder = '../data/features/mfcc_train/'"
   ]
  },
  {
   "cell_type": "code",
   "execution_count": 32,
   "id": "5616b178-c9a3-4c75-8417-dd1de2688e0d",
   "metadata": {},
   "outputs": [],
   "source": [
    "# os.makedirs(save_folder, exist_ok=True)"
   ]
  },
  {
   "cell_type": "code",
   "execution_count": 30,
   "id": "128440e0-abe9-4338-a06d-ba3ca426b3f0",
   "metadata": {},
   "outputs": [],
   "source": [
    "# for filename in os.listdir(flac_folder):\n",
    "#     if filename.endswith('.flac'):\n",
    "#         file_path = os.path.join(flac_folder, filename)        \n",
    "#         # 1. Load the audio file\n",
    "#         audio, sr = librosa.load(file_path, sr=None)     \n",
    "#         # 2. Extract MFCC features\n",
    "#         mfcc_feature_30 = librosa.feature.mfcc(y=audio, sr=sr, n_mfcc=30)        \n",
    "#         # 3. Save MFCC features as a .npy file\n",
    "#         save_path = os.path.join(save_folder, filename.replace('.flac', '.npy'))\n",
    "#         np.save(save_path, mfcc_feature_30)"
   ]
  },
  {
   "cell_type": "code",
   "execution_count": 29,
   "id": "91c33337-b361-4330-bbea-f54f7f0953e4",
   "metadata": {},
   "outputs": [],
   "source": [
    "# for filename in os.listdir(flac_folder):\n",
    "#     if filename.endswith('.flac'):\n",
    "#         file_path = os.path.join(flac_folder, filename)        \n",
    "#         # 1. Load the audio file\n",
    "#         audio, sr = librosa.load(file_path, sr=None)     \n",
    "#         # 2. Extract MFCC features\n",
    "#         mfcc_feature_60 = librosa.feature.mfcc(y=audio, sr=sr, n_mfcc=60)        \n",
    "#         # 3. Save MFCC features as a .npy file\n",
    "#         save_path = os.path.join(save_folder, filename.replace('.flac', '.npy'))\n",
    "#         np.save(save_path, mfcc_feature_60)"
   ]
  },
  {
   "cell_type": "code",
   "execution_count": null,
   "id": "ab8e23b3-0c51-4fe0-bdeb-165eed629a93",
   "metadata": {},
   "outputs": [],
   "source": []
  }
 ],
 "metadata": {
  "kernelspec": {
   "display_name": "Python 3 (ipykernel)",
   "language": "python",
   "name": "python3"
  },
  "language_info": {
   "codemirror_mode": {
    "name": "ipython",
    "version": 3
   },
   "file_extension": ".py",
   "mimetype": "text/x-python",
   "name": "python",
   "nbconvert_exporter": "python",
   "pygments_lexer": "ipython3",
   "version": "3.13.5"
  }
 },
 "nbformat": 4,
 "nbformat_minor": 5
}

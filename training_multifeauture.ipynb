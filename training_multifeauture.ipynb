{
 "cells": [
  {
   "cell_type": "code",
   "execution_count": 1,
   "id": "222cac7c",
   "metadata": {},
   "outputs": [],
   "source": [
    "import torch\n",
    "import torch.nn as nn\n",
    "import torch.nn.utils.rnn as rnn_utils\n",
    "from torch.utils.data import Dataset, DataLoader\n",
    "from torch.nn.utils.rnn import pad_sequence\n",
    "from tqdm.auto import tqdm\n",
    "import pandas as pd\n",
    "import numpy as np\n",
    "import eval_metrics as em\n",
    "import wandb"
   ]
  },
  {
   "cell_type": "markdown",
   "id": "e89eddae",
   "metadata": {},
   "source": [
    "### Configurations"
   ]
  },
  {
   "cell_type": "code",
   "execution_count": 2,
   "id": "006b2c04",
   "metadata": {},
   "outputs": [
    {
     "name": "stderr",
     "output_type": "stream",
     "text": [
      "\u001b[34m\u001b[1mwandb\u001b[0m: Currently logged in as: \u001b[33mqianyue\u001b[0m (\u001b[33mqianyue-university-of-stuttgart\u001b[0m) to \u001b[32mhttps://api.wandb.ai\u001b[0m. Use \u001b[1m`wandb login --relogin`\u001b[0m to force relogin\n"
     ]
    },
    {
     "data": {
      "text/html": [
       "Tracking run with wandb version 0.19.11"
      ],
      "text/plain": [
       "<IPython.core.display.HTML object>"
      ]
     },
     "metadata": {},
     "output_type": "display_data"
    },
    {
     "data": {
      "text/html": [
       "Run data is saved locally in <code>/home/users1/liqe/TeamLab_phonetics/TeamLab/wandb/run-20250609_191322-o5pidepv</code>"
      ],
      "text/plain": [
       "<IPython.core.display.HTML object>"
      ]
     },
     "metadata": {},
     "output_type": "display_data"
    },
    {
     "data": {
      "text/html": [
       "Syncing run <strong><a href='https://wandb.ai/qianyue-university-of-stuttgart/teamlab_deepfake/runs/o5pidepv' target=\"_blank\">test-run</a></strong> to <a href='https://wandb.ai/qianyue-university-of-stuttgart/teamlab_deepfake' target=\"_blank\">Weights & Biases</a> (<a href='https://wandb.me/developer-guide' target=\"_blank\">docs</a>)<br>"
      ],
      "text/plain": [
       "<IPython.core.display.HTML object>"
      ]
     },
     "metadata": {},
     "output_type": "display_data"
    },
    {
     "data": {
      "text/html": [
       " View project at <a href='https://wandb.ai/qianyue-university-of-stuttgart/teamlab_deepfake' target=\"_blank\">https://wandb.ai/qianyue-university-of-stuttgart/teamlab_deepfake</a>"
      ],
      "text/plain": [
       "<IPython.core.display.HTML object>"
      ]
     },
     "metadata": {},
     "output_type": "display_data"
    },
    {
     "data": {
      "text/html": [
       " View run at <a href='https://wandb.ai/qianyue-university-of-stuttgart/teamlab_deepfake/runs/o5pidepv' target=\"_blank\">https://wandb.ai/qianyue-university-of-stuttgart/teamlab_deepfake/runs/o5pidepv</a>"
      ],
      "text/plain": [
       "<IPython.core.display.HTML object>"
      ]
     },
     "metadata": {},
     "output_type": "display_data"
    }
   ],
   "source": [
    "run = wandb.init(\n",
    "    project = \"teamlab_deepfake\",\n",
    "    config={\n",
    "        \"learning_rate\": 0.01,\n",
    "        \"model\": \"LSTM\",    #NOTE: set manually\n",
    "        \"dataset\": \"ASVSpoof19_LA_original\",    #NOTE: set manually\n",
    "        \"feature\": \"PITCH_HNR_scaled\",   #NOTE: set manually\n",
    "        \"epochs\": 5,\n",
    "        \"batch_size\": 32,\n",
    "        \"input_dim\": 2,\n",
    "        \"bidirectional\": False,\n",
    "        \"hidden_dim\": 128,\n",
    "        \"n_layers\":1,\n",
    "        \"dropout_rate\": 0,\n",
    "        \"loss_function\": \"weighted_CE\",     #NOTE: set manually\n",
    "    },\n",
    "    name = \"test-run\",     #NOTE: set manually\n",
    "    notes = None,\n",
    "    tags = [\"multi_feature\",\"HNR\", \"PITCH\", \"scaling\"],\n",
    ")\n",
    "\n",
    "config = run.config"
   ]
  },
  {
   "cell_type": "markdown",
   "id": "693917dc",
   "metadata": {},
   "source": [
    "### Padding and Data Loader"
   ]
  },
  {
   "cell_type": "code",
   "execution_count": 3,
   "id": "bc4b5900",
   "metadata": {},
   "outputs": [],
   "source": [
    "PITCH_COLUMN = 'PITCH'\n",
    "HNR_COLUMN = 'HNR'\n",
    "AUDIO_ID_COLUMN = 'AUDIO_ID'\n",
    "NAN_REPLACEMENT_VALUE = 0.0  \n",
    "PADDING_VALUE = 0.0         \n",
    "LABEL_BONAFIDE = 1\n",
    "LABEL_SPOOF = 0\n",
    "\n",
    "\n",
    "# --- Load Labels from Text File ---\n",
    "def load_labels_from_file(label_file_path):\n",
    "    \"\"\"\n",
    "    Returns:\n",
    "        dict: A dictionary mapping AUDIO_ID (str) to numerical label (int).\n",
    "              e.g., {'LA_T_9351820': 1, 'LA_T_1004644': 0}\n",
    "    \"\"\"\n",
    "    labels_map = {}\n",
    "    try:\n",
    "        with open(label_file_path, 'r') as f:\n",
    "            for line in f:\n",
    "                parts = line.strip().split()\n",
    "                audio_id = parts[1]\n",
    "                label_str = parts[-1].lower() # Get the last part as label\n",
    "                \n",
    "                if label_str == 'bonafide':\n",
    "                    labels_map[audio_id] = LABEL_BONAFIDE\n",
    "                elif label_str == 'spoof':\n",
    "                    labels_map[audio_id] = LABEL_SPOOF\n",
    "\n",
    "    except FileNotFoundError:\n",
    "        print(f\"Error: Label file not found at {label_file_path}\")\n",
    "    return labels_map\n",
    "\n",
    "# --- Process pitch sequences and match them with labels ---\n",
    "class PitchHNRDataset(Dataset):\n",
    "    def __init__(self, dataframe, pitch_col, hnr_col, audio_id_col, label_file_path, nan_replacement=NAN_REPLACEMENT_VALUE):\n",
    "        \n",
    "        labels_map = load_labels_from_file(label_file_path)\n",
    "        \n",
    "        self.processed_features = []\n",
    "        self.labels = []\n",
    "        \n",
    "        print(f\"Attempting to match {len(dataframe)} entries from DataFrame with labels from '{label_file_path}'...\")\n",
    "        found_count = 0\n",
    "        # Iterate through the DataFrame and match with loaded labels\n",
    "        for index, row in dataframe.iterrows():    \n",
    "            audio_id = row[audio_id_col]\n",
    "            if audio_id in labels_map:\n",
    "                pitch_sequence_raw = row[pitch_col]\n",
    "                processed_pitch = np.nan_to_num(pitch_sequence_raw, nan=nan_replacement)\n",
    "                \n",
    "                hnr_sequence_raw = row[hnr_col]\n",
    "                processed_hnr = np.nan_to_num(hnr_sequence_raw, nan=nan_replacement)\n",
    "\n",
    "                ### NOTE:need to pad the two sequences to the same length\n",
    "                max_length = max(len(processed_pitch), len(processed_hnr))\n",
    "                if len(processed_pitch) > len(processed_hnr):\n",
    "                    padding = np.zeros(max_length - len(processed_hnr), dtype=processed_hnr.dtype)\n",
    "                    processed_hnr = np.concatenate((processed_hnr, padding))\n",
    "                else:\n",
    "                    padding = np.zeros(max_length - len(processed_pitch), dtype=processed_pitch.dtype)\n",
    "                    processed_pitch = np.concatenate((processed_pitch, padding))\n",
    "\n",
    "                combined_features = np.stack((processed_pitch, processed_hnr), axis=-1) \n",
    "                self.processed_features.append(torch.tensor(combined_features, dtype=torch.float32))\n",
    "\n",
    "                self.labels.append(labels_map[audio_id])\n",
    "                \n",
    "                found_count += 1\n",
    "        \n",
    "        if not self.processed_features:\n",
    "            raise ValueError(\"No samples were successfully matched and processed. Check your AUDIO_IDs and label file.\")\n",
    "\n",
    "        self.labels = torch.tensor(self.labels, dtype=torch.long) # Assuming labels are integers for classification\n",
    "        print(f\"Successfully matched and processed {found_count} samples out of {len(dataframe)} DataFrame entries.\")\n",
    "\n",
    "\n",
    "    def __len__(self):\n",
    "        \"\"\"Returns the total number of matched samples in the dataset.\"\"\"\n",
    "        return len(self.processed_features)\n",
    "\n",
    "    def __getitem__(self, idx):\n",
    "        \"\"\"\n",
    "        Returns one sample from the dataset: a preprocessed pitch sequence and its label.\n",
    "        \"\"\"\n",
    "        feature_sequence = self.processed_features[idx]\n",
    "        label = self.labels[idx]\n",
    "        return feature_sequence, label\n",
    "\n",
    "# --- Custom Collate Function for Dynamic Padding  ---\n",
    "def collate_fn(batch, padding_value=PADDING_VALUE):\n",
    "    \"\"\"\n",
    "    Pads sequences within a batch to the same length.\n",
    "    \"\"\"\n",
    "    sequences = [item[0] for item in batch]\n",
    "    labels = [item[1] for item in batch]\n",
    "    lengths = torch.tensor([len(seq) for seq in sequences], dtype=torch.long)\n",
    "    padded_sequences = pad_sequence(sequences, batch_first=True, padding_value=padding_value)\n",
    "    labels = torch.stack(labels)\n",
    "    if padded_sequences.ndim == 2:\n",
    "        padded_sequences = padded_sequences.unsqueeze(2)\n",
    "    return padded_sequences, lengths, labels\n"
   ]
  },
  {
   "cell_type": "code",
   "execution_count": 4,
   "id": "3b23e44d",
   "metadata": {},
   "outputs": [],
   "source": [
    "### For remote server\n",
    "train_features_path = '/home/users1/liqe/TeamLab_phonetics/prosody_features_train_scaled.parquet'\n",
    "dev_features_path = '/home/users1/liqe/TeamLab_phonetics/prosody_features_dev_scaled.parquet'\n",
    "\n",
    "df_train = pd.read_parquet(train_features_path, engine='pyarrow')\n",
    "df_dev = pd.read_parquet(dev_features_path, engine='pyarrow')\n",
    "\n",
    "### For local\n",
    "# train_features_path = r'C:\\Users\\ivyap\\Desktop\\25SU\\TEAMLAB\\prosody_features\\prosody_features_train.parquet'\n",
    "# dev_features_path = r'C:\\Users\\ivyap\\Desktop\\25SU\\TEAMLAB\\prosody_features\\prosody_features_dev.parquet'\n",
    "\n",
    "# df_train = pd.read_pickle(train_features_path)\n",
    "# df_dev = pd.read_pickle(dev_features_path)"
   ]
  },
  {
   "cell_type": "code",
   "execution_count": 5,
   "id": "da51a91e",
   "metadata": {},
   "outputs": [],
   "source": [
    "### for remote\n",
    "labels_train = '/home/users1/liqe/TeamLab_phonetics/ASVspoof2019_LA_cm_protocols/ASVspoof2019.LA.cm.train.trn.txt'\n",
    "labels_dev = '/home/users1/liqe/TeamLab_phonetics/ASVspoof2019_LA_cm_protocols/ASVspoof2019.LA.cm.dev.trl.txt'\n",
    "\n",
    "### For local \n",
    "# labels_train = r'C:\\Users\\ivyap\\Desktop\\25SU\\TEAMLAB\\LA\\ASVspoof2019_LA_cm_protocols\\ASVspoof2019.LA.cm.train.trn.txt'\n",
    "# labels_dev = r'C:\\Users\\ivyap\\Desktop\\25SU\\TEAMLAB\\LA\\ASVspoof2019_LA_cm_protocols\\ASVspoof2019.LA.cm.dev.trl.txt'\n",
    "\n",
    "\n",
    "# print(df.loc[0, PITCH_COLUMN])\n",
    "# print(type(df.loc[0, PITCH_COLUMN]))"
   ]
  },
  {
   "cell_type": "code",
   "execution_count": 6,
   "id": "67d92225",
   "metadata": {},
   "outputs": [
    {
     "name": "stdout",
     "output_type": "stream",
     "text": [
      "Attempting to match 25379 entries from DataFrame with labels from '/home/users1/liqe/TeamLab_phonetics/ASVspoof2019_LA_cm_protocols/ASVspoof2019.LA.cm.train.trn.txt'...\n",
      "Successfully matched and processed 25379 samples out of 25379 DataFrame entries.\n",
      "Attempting to match 24986 entries from DataFrame with labels from '/home/users1/liqe/TeamLab_phonetics/ASVspoof2019_LA_cm_protocols/ASVspoof2019.LA.cm.dev.trl.txt'...\n",
      "Successfully matched and processed 24844 samples out of 24986 DataFrame entries.\n",
      "\n",
      "--- Batch 1 ---\n",
      "  Padded Sequences Shape: torch.Size([32, 792, 2])\n",
      "  Original Lengths (first 5): tensor([652, 380, 193, 210, 232])\n",
      "  Labels (first 5): tensor([0, 0, 0, 0, 1])\n"
     ]
    }
   ],
   "source": [
    "pitch_dataset_train = PitchHNRDataset(dataframe=df_train,\n",
    "                                     pitch_col=PITCH_COLUMN,\n",
    "                                     hnr_col=HNR_COLUMN,\n",
    "                                     audio_id_col=AUDIO_ID_COLUMN,\n",
    "                                     label_file_path=labels_train,\n",
    "                                     nan_replacement=NAN_REPLACEMENT_VALUE)\n",
    "\n",
    "train_dataloader = DataLoader(\n",
    "    pitch_dataset_train, batch_size=config.batch_size, shuffle=True, collate_fn=collate_fn\n",
    ")\n",
    "\n",
    "pitch_dataset_dev = PitchHNRDataset(dataframe=df_dev,\n",
    "                                     pitch_col=PITCH_COLUMN,\n",
    "                                     hnr_col=HNR_COLUMN,\n",
    "                                     audio_id_col=AUDIO_ID_COLUMN,\n",
    "                                     label_file_path=labels_dev,\n",
    "                                     nan_replacement=NAN_REPLACEMENT_VALUE)\n",
    "\n",
    "dev_dataloader = DataLoader(\n",
    "    pitch_dataset_dev, batch_size=config.batch_size, shuffle=True, collate_fn=collate_fn\n",
    ")\n",
    "\n",
    "## For inspection\n",
    "for i, batch_data in enumerate(train_dataloader):\n",
    "    # batch_data is a tuple: (padded_sequences, lengths, labels)\n",
    "    batch_sequences, batch_lengths, batch_labels = batch_data\n",
    "    print(f\"\\n--- Batch {i+1} ---\")\n",
    "    print(f\"  Padded Sequences Shape: {batch_sequences.shape}\")\n",
    "    print(f\"  Original Lengths (first 5): {batch_lengths[:5]}\")\n",
    "    print(f\"  Labels (first 5): {batch_labels[:5]}\")\n",
    "    \n",
    "\n",
    "    if i == 0: # Break after the first batch for inspection\n",
    "        break\n"
   ]
  },
  {
   "cell_type": "markdown",
   "id": "2cdbd83f",
   "metadata": {},
   "source": [
    "### Finding the weight (for weighted cross entropy)"
   ]
  },
  {
   "cell_type": "markdown",
   "id": "65ac071d",
   "metadata": {},
   "source": [
    "is there different ways calculating weitghs?"
   ]
  },
  {
   "cell_type": "code",
   "execution_count": 7,
   "id": "8f67837f",
   "metadata": {},
   "outputs": [],
   "source": [
    "labels = load_labels_from_file(labels_train)\n",
    "total = len(labels)\n",
    "count_bonafide = class_count = sum(1 for value in labels.values() if value == LABEL_BONAFIDE)\n",
    "count_spoof =  total - count_bonafide\n",
    "weight_bonafide = total / (count_bonafide * 2)\n",
    "weight_spoof = total / (count_spoof * 2)"
   ]
  },
  {
   "cell_type": "markdown",
   "id": "0e3d85b7",
   "metadata": {},
   "source": [
    "### LSTM classifier"
   ]
  },
  {
   "cell_type": "code",
   "execution_count": 8,
   "id": "bbba4a9e",
   "metadata": {},
   "outputs": [],
   "source": [
    "class LSTM_Classifier(nn.Module):\n",
    "    def __init__(self, input_dim, hidden_dim, output_dim, n_layers,\n",
    "                 bidirectional, dropout):\n",
    "\n",
    "        super().__init__()\n",
    "        \n",
    "        self.input_dim = input_dim\n",
    "        self.hidden_dim = hidden_dim\n",
    "        self.output_dim = output_dim\n",
    "        self.n_layers = n_layers\n",
    "        self.bidirectional = bidirectional\n",
    "        \n",
    "        # 1. LSTM Layer\n",
    "        self.lstm = nn.LSTM(input_dim, \n",
    "                           hidden_dim, \n",
    "                           num_layers=n_layers, \n",
    "                           bidirectional=bidirectional, \n",
    "                           dropout=dropout if n_layers > 1 else 0,\n",
    "                           batch_first=True) # Input/output tensors are (batch, seq, feature)\n",
    "        \n",
    "        # 2. Fully Connected Layer (Linear Layer)\n",
    "        self.fc = nn.Linear(hidden_dim * 2 if bidirectional else hidden_dim, output_dim)\n",
    "        \n",
    "        # 3. Dropout Layer (for regularization on the output of LSTM)\n",
    "        self.dropout = nn.Dropout(dropout)\n",
    "        \n",
    "    def forward(self, sequences, sequence_lengths):\n",
    "      \n",
    "        # 1. Pack sequence\n",
    "        packed_input = rnn_utils.pack_padded_sequence(sequences, sequence_lengths.cpu(), batch_first=True, enforce_sorted=False)\n",
    "        \n",
    "        # 2. Pass packed sequence through LSTM\n",
    "        packed_output, (hidden, cell) = self.lstm(packed_input)\n",
    "        \n",
    "        # 3. Concatenate the final forward and backward hidden states (if bidirectional)\n",
    "        if self.lstm.bidirectional:\n",
    "            hidden = self.dropout(torch.cat((hidden[-2,:,:], hidden[-1,:,:]), dim=1))\n",
    "        else:\n",
    "            hidden = self.dropout(hidden[-1,:,:])\n",
    "         \n",
    "        # 4. Pass the processed hidden state through the fully connected layer\n",
    "        output = self.fc(hidden)\n",
    "        \n",
    "        return output"
   ]
  },
  {
   "cell_type": "markdown",
   "id": "9f0e0862",
   "metadata": {},
   "source": [
    "### Initiate the model"
   ]
  },
  {
   "cell_type": "code",
   "execution_count": 9,
   "id": "3c5ff2f9",
   "metadata": {},
   "outputs": [
    {
     "name": "stdout",
     "output_type": "stream",
     "text": [
      "CUDA available: True\n",
      "CUDA device count: 4\n"
     ]
    }
   ],
   "source": [
    "print(f\"CUDA available: {torch.cuda.is_available()}\")\n",
    "print(f\"CUDA device count: {torch.cuda.device_count()}\")\n",
    "DEVICE = torch.device('cuda' if torch.cuda.is_available() else 'cpu')"
   ]
  },
  {
   "cell_type": "code",
   "execution_count": 10,
   "id": "76bcf403",
   "metadata": {},
   "outputs": [],
   "source": [
    "class_weights = torch.tensor([weight_bonafide, weight_spoof], dtype=torch.float32).to(DEVICE)"
   ]
  },
  {
   "cell_type": "code",
   "execution_count": 12,
   "id": "d5e02bd2",
   "metadata": {},
   "outputs": [],
   "source": [
    "model = LSTM_Classifier(input_dim=config.input_dim, hidden_dim=config.hidden_dim, output_dim=2, n_layers=config.n_layers,\n",
    "                 bidirectional=config.bidirectional, dropout=config.dropout_rate).to(DEVICE)\n",
    "criterion = torch.nn.CrossEntropyLoss(reduction='mean', weight=class_weights)\n",
    "optimizer = torch.optim.Adam(model.parameters(), lr=config.learning_rate)"
   ]
  },
  {
   "cell_type": "markdown",
   "id": "6ed0614e",
   "metadata": {},
   "source": [
    "### Evaluation"
   ]
  },
  {
   "cell_type": "code",
   "execution_count": 13,
   "id": "7882ce3a",
   "metadata": {},
   "outputs": [],
   "source": [
    "def evaluate_classifier(data_loader, model, criterion):\n",
    "\n",
    "    model.eval()  # Set the model to evaluation mode (disables dropout, etc.)\n",
    "    \n",
    "    total_loss = 0.0\n",
    "    correct_predictions = 0\n",
    "    total_samples = 0\n",
    "\n",
    "    scores_bonafide = []\n",
    "    scores_spoof = []\n",
    "\n",
    "    with torch.no_grad():  # Disable gradient calculations during evaluation\n",
    "        for batch_sequences, batch_lengths, batch_labels in data_loader:\n",
    "            \n",
    "            batch_sequences = batch_sequences.to(DEVICE)\n",
    "            batch_labels = batch_labels.to(DEVICE)\n",
    "\n",
    "            # Forward pass: Get model outputs (logits)\n",
    "            logits = model(batch_sequences, batch_lengths)\n",
    "            \n",
    "            # Calculate loss for the current batch\n",
    "            loss = criterion(logits, batch_labels)\n",
    "            total_loss += loss.item() * batch_sequences.size(0) # Accumulate loss, weighted by batch size\n",
    "\n",
    "            # for EER\n",
    "            probabilities = torch.softmax(logits, dim=1)\n",
    "            \n",
    "            for i in range(len(batch_labels)):\n",
    "                current_label = batch_labels[i]\n",
    "                current_score = probabilities[i]\n",
    "\n",
    "                if current_label == LABEL_BONAFIDE:\n",
    "                    scores_bonafide.append(current_score[LABEL_BONAFIDE].cpu())     ## numpy is cpu only, need to move tensor from gpu\n",
    "                elif current_label == LABEL_SPOOF:\n",
    "                    scores_spoof.append(current_score[LABEL_BONAFIDE].cpu())\n",
    "            \n",
    "            # Compare predictions with true labels\n",
    "            total_samples += batch_labels.size(0) # Count number of samples in this batch\n",
    "\n",
    "    average_loss = total_loss / total_samples if total_samples > 0 else 0.0\n",
    "\n",
    "    scores_bonafide_np = np.array(scores_bonafide)    \n",
    "    scores_spoof_np = np.array(scores_spoof)\n",
    "    eer, threshold = em.compute_eer(scores_bonafide_np, scores_spoof_np)\n",
    "    \n",
    "    return average_loss, eer, threshold"
   ]
  },
  {
   "cell_type": "markdown",
   "id": "05672159",
   "metadata": {},
   "source": [
    "### The training loop"
   ]
  },
  {
   "cell_type": "code",
   "execution_count": 14,
   "id": "c10873ed",
   "metadata": {},
   "outputs": [],
   "source": [
    "def train_model(model, train_dataloader, dev_dataloader, criterion, optimizer, num_epochs, device,\n",
    "                min_eer, best_model_filename):\n",
    "\n",
    "    print(f\"Training started on device: {device}\")\n",
    "    model.to(device) # Ensure model is on the correct device\n",
    "\n",
    "    # Initial metric dictionary for the progress bar\n",
    "    metric_dict = {'train_loss': 'N/A', 'val_loss': 'N/A', 'val_eer': 'N/A', 'val_threshold': 'N/A'}\n",
    "\n",
    "    # Evaluate on validation set first to get a baseline\n",
    "    print(\"Evaluating on validation set before training...\")\n",
    "    model.eval() # Set model to evaluation mode\n",
    "    val_loss_initial, val_eer_initial, threshold_initial = evaluate_classifier(dev_dataloader, model, criterion)\n",
    "    metric_dict.update({'val_loss': f'{val_loss_initial:.3f}', 'val_eer': f'{val_eer_initial*100:.2f}%', 'val_threshold': f'{threshold_initial*100:.2f}%'})\n",
    "    print(f\"Initial Validation - Loss: {val_loss_initial:.4f}, EER: {val_eer_initial*100:.2f}%, Threshold: {threshold_initial*100:.2f}%\")\n",
    "\n",
    "    # Progress bar setup\n",
    "    total_steps = num_epochs * len(train_dataloader)\n",
    "    pbar = tqdm(total=total_steps, initial=0, postfix=metric_dict, unit=\"batch\")\n",
    "\n",
    "    for epoch in range(num_epochs):\n",
    "        model.train()  # Set the model to training mode (enables dropout, etc.)\n",
    "        pbar.set_description(f\"Epoch {epoch + 1}/{num_epochs}\")\n",
    "        \n",
    "        running_train_loss = 0.0\n",
    "        num_train_batches = 0\n",
    "\n",
    "        for batch_sequences, batch_lengths, batch_labels in train_dataloader:\n",
    "            # Move data to the specified device\n",
    "            batch_sequences = batch_sequences.to(device)\n",
    "            # batch_lengths are used by pack_padded_sequence which expects them on CPU\n",
    "            batch_labels = batch_labels.to(device)\n",
    "\n",
    "            # Zero the parameter gradients\n",
    "            optimizer.zero_grad()\n",
    "\n",
    "            # Forward pass: Get model outputs (logits)\n",
    "            logits = model(batch_sequences, batch_lengths)\n",
    "            \n",
    "            # Calculate loss\n",
    "            loss = criterion(logits, batch_labels)\n",
    "            \n",
    "            # Backward pass and optimize\n",
    "            loss.backward()\n",
    "            optimizer.step()\n",
    "\n",
    "            # Update statistics for progress bar and logging\n",
    "            running_train_loss += loss.item()\n",
    "            num_train_batches += 1\n",
    "            \n",
    "            pbar.update(1) # Increment progress bar by one batch\n",
    "            metric_dict.update({'train_loss': f'{loss.item():.3f}'}) # Current batch loss\n",
    "            pbar.set_postfix(metric_dict)\n",
    "        \n",
    "        # Calculate average training loss for the epoch\n",
    "        avg_epoch_train_loss = running_train_loss / num_train_batches if num_train_batches > 0 else 0.0\n",
    "        metric_dict.update({'train_loss': f'{avg_epoch_train_loss:.3f}'}) # Average epoch loss\n",
    "        \n",
    "        # Evaluate on validation set after each epoch\n",
    "        avg_val_loss, val_eer, val_threshold = evaluate_classifier(dev_dataloader, model, criterion)\n",
    "        \n",
    "        metric_dict.update({'val_loss': f'{avg_val_loss:.3f}', 'val_eer': f'{val_eer*100:.2f}%', 'val_threshold': f'{val_threshold*100:.2f}%'})\n",
    "        pbar.set_postfix(metric_dict) # Update with latest validation metrics\n",
    "        \n",
    "        # Optional: Print epoch summary\n",
    "        print(f\"\\nEpoch {epoch+1} Summary: Avg Train Loss: {avg_epoch_train_loss:.4f}, Val Loss: {avg_val_loss:.4f}, EER: {val_eer*100:.2f}%, Threshold: {val_threshold*100:.2f}%\")\n",
    "\n",
    "        # log the train\\dev loss and the eer & threshold\n",
    "        run.log({\"train_loss\": avg_epoch_train_loss, \"dev_loss\": avg_val_loss, \n",
    "                   \"dev_eer\": val_eer, \"dev_threshold\":val_threshold, \"epoch\": epoch + 1})\n",
    "        \n",
    "        ### update min eer and optimal model\n",
    "        if val_eer < min_eer:\n",
    "            min_eer = val_eer\n",
    "            torch.save(model.state_dict(), best_model_filename)\n",
    "            print(f\"Epoch {epoch+1}: New best model saved to '{best_model_filename}' with EER: {min_eer:.4f}\")\n",
    "\n",
    "            run.summary['best_validation_eer'] = min_eer\n",
    "            run.summary['best_eer_epoch'] = epoch + 1\n",
    "            run.summary['validation_loss_at_best_eer'] = avg_val_loss\n",
    "\n",
    "    pbar.close()\n",
    "    print(\"Training finished.\")\n",
    "    return min_eer"
   ]
  },
  {
   "cell_type": "code",
   "execution_count": 15,
   "id": "d2c89dc0",
   "metadata": {},
   "outputs": [
    {
     "name": "stdout",
     "output_type": "stream",
     "text": [
      "Training started on device: cuda\n",
      "Evaluating on validation set before training...\n",
      "Initial Validation - Loss: 0.6642, EER: 77.90%, Threshold: 48.50%\n"
     ]
    },
    {
     "data": {
      "application/vnd.jupyter.widget-view+json": {
       "model_id": "880b0a6643fc43b4aabf169199339ad4",
       "version_major": 2,
       "version_minor": 0
      },
      "text/plain": [
       "  0%|          | 0/3970 [00:00<?, ?batch/s, train_loss=N/A, val_eer=77.90%, val_loss=0.664, val_threshold=48.5…"
      ]
     },
     "metadata": {},
     "output_type": "display_data"
    },
    {
     "name": "stdout",
     "output_type": "stream",
     "text": [
      "\n",
      "Epoch 1 Summary: Avg Train Loss: 0.0727, Val Loss: 0.0702, EER: 91.76%, Threshold: 1.23%\n",
      "Epoch 1: New best model saved to 'best_model' with EER: 0.9176\n",
      "\n",
      "Epoch 2 Summary: Avg Train Loss: 0.0704, Val Loss: 0.0704, EER: 55.46%, Threshold: 1.55%\n",
      "Epoch 2: New best model saved to 'best_model' with EER: 0.5546\n",
      "\n",
      "Epoch 3 Summary: Avg Train Loss: 0.0701, Val Loss: 0.0703, EER: 63.90%, Threshold: 1.09%\n",
      "\n",
      "Epoch 4 Summary: Avg Train Loss: 0.0705, Val Loss: 0.0700, EER: 57.80%, Threshold: 1.11%\n",
      "\n",
      "Epoch 5 Summary: Avg Train Loss: 0.0702, Val Loss: 0.0707, EER: 51.14%, Threshold: 1.71%\n",
      "Epoch 5: New best model saved to 'best_model' with EER: 0.5114\n",
      "Training finished.\n"
     ]
    }
   ],
   "source": [
    "NUM_EPOCHS = config.epochs\n",
    "min_eer = float('inf')\n",
    "best_model_filename = 'best_model'  #tbc\n",
    "\n",
    "min_eer = train_model(model, train_dataloader, dev_dataloader, criterion, optimizer, NUM_EPOCHS, DEVICE,\n",
    "            min_eer, best_model_filename)"
   ]
  },
  {
   "cell_type": "markdown",
   "id": "7cd7ece4",
   "metadata": {},
   "source": [
    "### Save the model"
   ]
  },
  {
   "cell_type": "code",
   "execution_count": 16,
   "id": "e2840319",
   "metadata": {},
   "outputs": [
    {
     "name": "stdout",
     "output_type": "stream",
     "text": [
      "Logging the best model (best_model) to W&B Artifacts...\n",
      "Best model logged as W&B Artifact.\n"
     ]
    },
    {
     "data": {
      "text/html": [],
      "text/plain": [
       "<IPython.core.display.HTML object>"
      ]
     },
     "metadata": {},
     "output_type": "display_data"
    },
    {
     "data": {
      "text/html": [
       "<br>    <style><br>        .wandb-row {<br>            display: flex;<br>            flex-direction: row;<br>            flex-wrap: wrap;<br>            justify-content: flex-start;<br>            width: 100%;<br>        }<br>        .wandb-col {<br>            display: flex;<br>            flex-direction: column;<br>            flex-basis: 100%;<br>            flex: 1;<br>            padding: 10px;<br>        }<br>    </style><br><div class=\"wandb-row\"><div class=\"wandb-col\"><h3>Run history:</h3><br/><table class=\"wandb\"><tr><td>dev_eer</td><td>█▂▃▂▁</td></tr><tr><td>dev_loss</td><td>▃▅▄▁█</td></tr><tr><td>dev_threshold</td><td>▃▆▁▁█</td></tr><tr><td>epoch</td><td>▁▃▅▆█</td></tr><tr><td>train_loss</td><td>█▂▁▂▁</td></tr></table><br/></div><div class=\"wandb-col\"><h3>Run summary:</h3><br/><table class=\"wandb\"><tr><td>best_eer_epoch</td><td>5</td></tr><tr><td>best_validation_eer</td><td>0.51139</td></tr><tr><td>dev_eer</td><td>0.51139</td></tr><tr><td>dev_loss</td><td>0.07067</td></tr><tr><td>dev_threshold</td><td>0.01712</td></tr><tr><td>epoch</td><td>5</td></tr><tr><td>train_loss</td><td>0.07022</td></tr><tr><td>validation_loss_at_best_eer</td><td>0.07067</td></tr></table><br/></div></div>"
      ],
      "text/plain": [
       "<IPython.core.display.HTML object>"
      ]
     },
     "metadata": {},
     "output_type": "display_data"
    },
    {
     "data": {
      "text/html": [
       " View run <strong style=\"color:#cdcd00\">test-run</strong> at: <a href='https://wandb.ai/qianyue-university-of-stuttgart/teamlab_deepfake/runs/o5pidepv' target=\"_blank\">https://wandb.ai/qianyue-university-of-stuttgart/teamlab_deepfake/runs/o5pidepv</a><br> View project at: <a href='https://wandb.ai/qianyue-university-of-stuttgart/teamlab_deepfake' target=\"_blank\">https://wandb.ai/qianyue-university-of-stuttgart/teamlab_deepfake</a><br>Synced 5 W&B file(s), 0 media file(s), 2 artifact file(s) and 0 other file(s)"
      ],
      "text/plain": [
       "<IPython.core.display.HTML object>"
      ]
     },
     "metadata": {},
     "output_type": "display_data"
    },
    {
     "data": {
      "text/html": [
       "Find logs at: <code>./wandb/run-20250609_191322-o5pidepv/logs</code>"
      ],
      "text/plain": [
       "<IPython.core.display.HTML object>"
      ]
     },
     "metadata": {},
     "output_type": "display_data"
    },
    {
     "name": "stdout",
     "output_type": "stream",
     "text": [
      "W&B run finished.\n"
     ]
    }
   ],
   "source": [
    "if min_eer != float('inf'):\n",
    "    print(f\"Logging the best model ({best_model_filename}) to W&B Artifacts...\")\n",
    "    best_model_artifact = wandb.Artifact(\n",
    "        name=f\"{run.id}-best-model\", # Using run ID for uniqueness\n",
    "        type=\"model\",\n",
    "        description=f\"Best model according to EER ({min_eer:.4f}) achieved at epoch {run.summary.get('best_eer_epoch', 'N/A')}.\",\n",
    "        metadata={\"best_eer\": min_eer, \"epoch_of_best_eer\": run.summary.get('best_eer_epoch', 'N/A')}\n",
    "    )\n",
    "    best_model_artifact.add_file(best_model_filename) # Add the saved file\n",
    "    wandb.run.log_artifact(best_model_artifact, aliases=[\"best_eer_model\"]) # Add an alias\n",
    "    print(\"Best model logged as W&B Artifact.\")\n",
    "else:\n",
    "    print(\"No model was saved as best_eer did not improve from its initial value.\")\n",
    "\n",
    "run.finish()\n",
    "\n",
    "print(\"W&B run finished.\")"
   ]
  },
  {
   "cell_type": "code",
   "execution_count": null,
   "id": "004b78e4",
   "metadata": {},
   "outputs": [],
   "source": []
  }
 ],
 "metadata": {
  "kernelspec": {
   "display_name": "pytorch0",
   "language": "python",
   "name": "python3"
  },
  "language_info": {
   "codemirror_mode": {
    "name": "ipython",
    "version": 3
   },
   "file_extension": ".py",
   "mimetype": "text/x-python",
   "name": "python",
   "nbconvert_exporter": "python",
   "pygments_lexer": "ipython3",
   "version": "3.11.11"
  }
 },
 "nbformat": 4,
 "nbformat_minor": 5
}
